{
  "cells": [
    {
      "cell_type": "markdown",
      "metadata": {
        "id": "Wfp1ewVK1gUD"
      },
      "source": [
        "# Project 3 "
      ]
    },
    {
      "cell_type": "markdown",
      "metadata": {
        "id": "CGGCaCzfu0ux"
      },
      "source": [
        "## Business Case"
      ]
    },
    {
      "attachments": {},
      "cell_type": "markdown",
      "metadata": {
        "id": "_5JCp9s87Ycy"
      },
      "source": [
        "**Abstract**\n",
        "\n",
        "Semi-supervised learning as a branch of machine learning that combines a small amount of labeled data with a large amount of unlabeled data during training (Wikipedia contributors, 2023). This project uses semi-supervised learning to improve the detection and reporting of phishing emails/URLs. \n",
        "\n",
        "\n",
        "**Background**\n",
        "\n",
        "Phishing is defined as “the practice of tricking Internet users (as through the use of deceptive email messages or websites) into revealing personal or confidential information which can then be used illicitly” (Definition of phishing, 2023). According to (Rosenthal, 2022), \"96% of phishing attacks arrive by email. Another 3% are carried out through malicious websites\". The frequency and costs associated phishing and ransomware attacks have increased year after year: \n",
        "\n",
        "* In 2020, 6.95 million new phishing and scam pages were created, with the highest number of new phishing and scam sites in one month of 206,310. \n",
        "The average ransom paid increased 171% from 2019 to 2020 ($115,123 to $312,493), said the 2021 Unit 42 Ransomware Threat Report. \n",
        "* By September 2020, the average ransom payment peaked at $233,817, according to the 2021 Webroot BrightCloud Threat Report. The report also found that phishing spiked by 510 % from January to February 2020 alone. \n",
        "* According to the Sift Q1 2021 Trust & Safety Index, in 2020 the pandemic increased online giving by 20.7%. This increase in traffic provided cover to fraudsters that hid behind transaction surges: \n",
        "    *  Ransomware attacks grew by over 40%. \n",
        "    * Email malware attacks were up by 600% compared to 2019. \n",
        "\n",
        "Improving the detection and reporting of phishing emails/URLs is a critical requirement to reduce the success rate of social engineering attacks, which are the number 1 cause of compromise on corporate networks. Reducing the success rate of social engineering attacks also reduces any potential impact of costs associated with ransomware attacks and the legal and reputation costs associated with the disclosure of private data. \n",
        "\n",
        "\n",
        "\n",
        "**Objective**: The objective of this study is to use Semi-supervised learning to improve the detection and reporting of phishing emails/URLs. "
      ]
    },
    {
      "cell_type": "markdown",
      "metadata": {
        "id": "16ledbGp12bm"
      },
      "source": [
        "## Requirements"
      ]
    },
    {
      "cell_type": "markdown",
      "metadata": {
        "id": "jIOoRSYcvkvc"
      },
      "source": [
        "Before proceeding, you will be required to install some _Python_ modules. The notebook requires the modules below, which can be installed by executing the code block below.\n",
        "\n",
        "* `pycaret`;\n",
        "* `spacy`."
      ]
    },
    {
      "cell_type": "code",
      "execution_count": 1,
      "metadata": {
        "id": "sZpE-Kw714Pf"
      },
      "outputs": [],
      "source": [
        "%%capture\n",
        "!pip install --upgrade pip\n",
        "!pip install pycaret\n",
        "!pip install spacy\n",
        "!python -m spacy download en\n",
        "\n",
        "# Download the required NLTK documents\n",
        "import nltk\n",
        "\n",
        "nltk.download('stopwords')\n",
        "nltk.download('punkt')"
      ]
    },
    {
      "cell_type": "markdown",
      "metadata": {
        "id": "rtboqUWN1gUH"
      },
      "source": [
        "## Overall Process\n",
        "\n",
        "Here are the general steps to classify a large amount of webpages using pycaret:\n",
        "\n",
        "1. **Collect and preprocess the data**: Collect the webpages that need to be classified and preprocess them to extract the relevant information. This may involve cleaning the text data, removing stop words, and transforming the data into a format that can be used by `pycaret`;\n",
        "1. **Load the data into a pandas `DataFrame`**: Load the preprocessed data into a pandas `DataFrame`;\n",
        "1. **Generate the `CountVectorizer`**: Generate the token count vector to append to other features. This involve filtering some of the rows in the `DataFrame`;\n",
        "1. **Set up the `pycaret` environment**: Initialize the `pycaret` environment and load the data using the `setup()` function. This function automatically preprocesses the data and prepares it for modeling;\n",
        "1. **Train and compare multiple models**: Train multiple classification models using the `compare_models()` function. This function automatically trains and evaluates several models and selects the best one based on performance metrics.\n",
        "1. **Tune the selected model**: Use the `tune_model()` function to fine-tune the selected model and improve its performance.\n",
        "1. **Evaluate the model**: Evaluate the final model on the testing set using the `evaluate_model()` function.\n",
        "1. **Save the model**: Save the trained model to a file using the `save_model()` function so that it can be reused later.\n",
        "1. **Deploy the model**: Deploy the trained model in a production environment and use it to classify webpages as needed.\n",
        "1. **Use the model to classify new data**: Once the final model is trained and evaluated, use it to classify new webpages using the `predict_model()` function.\n"
      ]
    },
    {
      "cell_type": "markdown",
      "metadata": {
        "id": "7UnBS3yv1gUI"
      },
      "source": [
        "## Preprocessing\n",
        "\n",
        "The preprocessing steps for webpages for this project include the following activities:\n",
        "\n",
        "1. Retrieving the raw HTML content of each webpage using `BeautifulSoup`;\n",
        "1. Cleaning the HTML content by removing HTML tags, script and style tags, and other unwanted content using regular expressions;\n",
        "1. Tokenizing the cleaned HTML content into words or phrases using `NLTK` and `spaCy`;\n",
        "1. Normalizing the tokens by converting them to lowercase, removing punctuation, and removing stop words (common words that do not add meaning to the text).\n",
        "\n",
        "This process is done using the dataset made available [here](https://www.kaggle.com/datasets/asifejazitu/phishing-dataset), which holds 382,000 webpages from [PhishTank](https://phishtank.org/phish_detail). While all the webpages were pre-processed and recorded into a CSV file, the model is training only on a subset due to limited time and computing resources."
      ]
    },
    {
      "cell_type": "markdown",
      "metadata": {
        "id": "beylydoPy9NY"
      },
      "source": [
        "While preprocessing the webpages, we also extracted additional features that may be useful in identifying phishing websites. These includes:\n",
        "\n",
        "* `is_english`. Uses the `langdetect` module to assess whether the webpage is in English;\n",
        "* `has_form`. Specify whether the web page contains one or more `<form>` objects;\n",
        "* `has_login_form`. Specify whether the webpage contains one or more `<form>` objects containing an `input` of type `password`;\n",
        "* `has_js`. Specify whether the webpage contains one or more `<javascript>` object.\n",
        "* `js_include_b64`. Specify whether or not the `<javascript>` objects contains base64-encoded strings.\n",
        "* `nb_tokens`. Number of tokens remaining after cleaning up.\n",
        "\n",
        "All these values are saved as columns into the resulting CSV along with the tokens extracted from the text. \n",
        "\n",
        "**Note**. As it is often the case with webpages, the HTML is not always parsed cleanly, resulting in HTML remaining in the tokens. Better parsing is an improvement left for further version."
      ]
    },
    {
      "cell_type": "markdown",
      "metadata": {
        "id": "4KM0-zs3xOI1"
      },
      "source": [
        "This step is omitted in this notebook, but is implemented in the final app. The dataset can be combined into one (1) CSV file by executing the following commands:\n",
        "\n",
        "```sh\n",
        "$ python app.py --parse ./data/sample/malicious --class malicious\n",
        "$ python app.py --parse ./data/sample/benign --class benign\n",
        "$ cp ./data/data-benign.csv ./data/data.csv\n",
        "$ tail -n +2 ./data/data-malicious.csv >> ./data/data.csv\n",
        "```"
      ]
    },
    {
      "cell_type": "markdown",
      "metadata": {
        "id": "SFKToJAnxwJT"
      },
      "source": [
        "For the purpose of demonstration, a sample of 2000 rows is used to generate an initial model. You can specify the sample file below:"
      ]
    },
    {
      "cell_type": "code",
      "execution_count": 2,
      "metadata": {
        "cellView": "form",
        "id": "ag37DAf73yKx"
      },
      "outputs": [],
      "source": [
        "#@title Data Source\n",
        "datafile = \"./data-2000-c.csv\" #@param {type:\"string\"}\n"
      ]
    },
    {
      "cell_type": "code",
      "execution_count": 4,
      "metadata": {
        "colab": {
          "base_uri": "https://localhost:8080/"
        },
        "id": "59ppCd8wyZbg",
        "outputId": "96d64fec-f065-4f44-b901-fc17cc72bf68"
      },
      "outputs": [
        {
          "name": "stdout",
          "output_type": "stream",
          "text": [
            "Dataset './data-2000-c.csv' contains 1999 row(s) and 9 column(s).\n"
          ]
        }
      ],
      "source": [
        "import pandas as pd\n",
        "\n",
        "# Load the pre-processed data into the `df_features_ datafram\n",
        "df_features = pd.read_csv(datafile, sep=',')\n",
        "print(f\"Dataset '{datafile}' contains {df_features.shape[0]} row(s) and {df_features.shape[1]} column(s).\")"
      ]
    },
    {
      "cell_type": "code",
      "execution_count": 6,
      "metadata": {
        "colab": {
          "base_uri": "https://localhost:8080/"
        },
        "id": "nwWXLp8F02zt",
        "outputId": "4d592f78-5d73-4328-84bc-c6d8dac8b8db"
      },
      "outputs": [
        {
          "name": "stdout",
          "output_type": "stream",
          "text": [
            "<class 'pandas.core.frame.DataFrame'>\n",
            "RangeIndex: 1999 entries, 0 to 1998\n",
            "Data columns (total 9 columns):\n",
            " #   Column          Non-Null Count  Dtype \n",
            "---  ------          --------------  ----- \n",
            " 0   title_raw       1743 non-null   object\n",
            " 1   is_english      1999 non-null   bool  \n",
            " 2   has_form        1999 non-null   bool  \n",
            " 3   has_login_form  1999 non-null   bool  \n",
            " 4   has_js          1999 non-null   bool  \n",
            " 5   js_include_b64  1999 non-null   bool  \n",
            " 6   nb_tokens       1999 non-null   int64 \n",
            " 7   text_clean      1960 non-null   object\n",
            " 8   classification  1999 non-null   object\n",
            "dtypes: bool(5), int64(1), object(3)\n",
            "memory usage: 72.4+ KB\n"
          ]
        }
      ],
      "source": [
        "df_features.info()"
      ]
    },
    {
      "cell_type": "code",
      "execution_count": 5,
      "metadata": {
        "colab": {
          "base_uri": "https://localhost:8080/",
          "height": 439
        },
        "id": "gKpk_-Ov0Rgj",
        "outputId": "b394042c-a4a0-4558-b77c-5aadb3849a8f"
      },
      "outputs": [
        {
          "data": {
            "text/html": [
              "\n",
              "  <div id=\"df-f9c8a749-ee63-49ae-a6e2-716e6bde5e13\">\n",
              "    <div class=\"colab-df-container\">\n",
              "      <div>\n",
              "<style scoped>\n",
              "    .dataframe tbody tr th:only-of-type {\n",
              "        vertical-align: middle;\n",
              "    }\n",
              "\n",
              "    .dataframe tbody tr th {\n",
              "        vertical-align: top;\n",
              "    }\n",
              "\n",
              "    .dataframe thead th {\n",
              "        text-align: right;\n",
              "    }\n",
              "</style>\n",
              "<table border=\"1\" class=\"dataframe\">\n",
              "  <thead>\n",
              "    <tr style=\"text-align: right;\">\n",
              "      <th></th>\n",
              "      <th>title_raw</th>\n",
              "      <th>is_english</th>\n",
              "      <th>has_form</th>\n",
              "      <th>has_login_form</th>\n",
              "      <th>has_js</th>\n",
              "      <th>js_include_b64</th>\n",
              "      <th>nb_tokens</th>\n",
              "      <th>text_clean</th>\n",
              "      <th>classification</th>\n",
              "    </tr>\n",
              "  </thead>\n",
              "  <tbody>\n",
              "    <tr>\n",
              "      <th>0</th>\n",
              "      <td>quizzstar</td>\n",
              "      <td>True</td>\n",
              "      <td>False</td>\n",
              "      <td>False</td>\n",
              "      <td>True</td>\n",
              "      <td>False</td>\n",
              "      <td>619</td>\n",
              "      <td>quizzstar fortune personality life friends lov...</td>\n",
              "      <td>benign</td>\n",
              "    </tr>\n",
              "    <tr>\n",
              "      <th>1</th>\n",
              "      <td>juegosonce web oficial de la lotera de la once</td>\n",
              "      <td>False</td>\n",
              "      <td>True</td>\n",
              "      <td>True</td>\n",
              "      <td>True</td>\n",
              "      <td>True</td>\n",
              "      <td>854</td>\n",
              "      <td>juegosonce web oficial de la lotera de la salt...</td>\n",
              "      <td>benign</td>\n",
              "    </tr>\n",
              "    <tr>\n",
              "      <th>2</th>\n",
              "      <td>: : kakprosto.ru :</td>\n",
              "      <td>True</td>\n",
              "      <td>True</td>\n",
              "      <td>True</td>\n",
              "      <td>True</td>\n",
              "      <td>True</td>\n",
              "      <td>137</td>\n",
              "      <td>kakprosto.ru javascript hi-tech new english ve...</td>\n",
              "      <td>benign</td>\n",
              "    </tr>\n",
              "    <tr>\n",
              "      <th>3</th>\n",
              "      <td>standard chartered bank</td>\n",
              "      <td>True</td>\n",
              "      <td>False</td>\n",
              "      <td>False</td>\n",
              "      <td>False</td>\n",
              "      <td>False</td>\n",
              "      <td>3</td>\n",
              "      <td>standard chartered bank</td>\n",
              "      <td>benign</td>\n",
              "    </tr>\n",
              "    <tr>\n",
              "      <th>4</th>\n",
              "      <td>NaN</td>\n",
              "      <td>True</td>\n",
              "      <td>False</td>\n",
              "      <td>False</td>\n",
              "      <td>True</td>\n",
              "      <td>False</td>\n",
              "      <td>40</td>\n",
              "      <td>ummy video downloader english trke spaol bahas...</td>\n",
              "      <td>benign</td>\n",
              "    </tr>\n",
              "  </tbody>\n",
              "</table>\n",
              "</div>\n",
              "      <button class=\"colab-df-convert\" onclick=\"convertToInteractive('df-f9c8a749-ee63-49ae-a6e2-716e6bde5e13')\"\n",
              "              title=\"Convert this dataframe to an interactive table.\"\n",
              "              style=\"display:none;\">\n",
              "        \n",
              "  <svg xmlns=\"http://www.w3.org/2000/svg\" height=\"24px\"viewBox=\"0 0 24 24\"\n",
              "       width=\"24px\">\n",
              "    <path d=\"M0 0h24v24H0V0z\" fill=\"none\"/>\n",
              "    <path d=\"M18.56 5.44l.94 2.06.94-2.06 2.06-.94-2.06-.94-.94-2.06-.94 2.06-2.06.94zm-11 1L8.5 8.5l.94-2.06 2.06-.94-2.06-.94L8.5 2.5l-.94 2.06-2.06.94zm10 10l.94 2.06.94-2.06 2.06-.94-2.06-.94-.94-2.06-.94 2.06-2.06.94z\"/><path d=\"M17.41 7.96l-1.37-1.37c-.4-.4-.92-.59-1.43-.59-.52 0-1.04.2-1.43.59L10.3 9.45l-7.72 7.72c-.78.78-.78 2.05 0 2.83L4 21.41c.39.39.9.59 1.41.59.51 0 1.02-.2 1.41-.59l7.78-7.78 2.81-2.81c.8-.78.8-2.07 0-2.86zM5.41 20L4 18.59l7.72-7.72 1.47 1.35L5.41 20z\"/>\n",
              "  </svg>\n",
              "      </button>\n",
              "      \n",
              "  <style>\n",
              "    .colab-df-container {\n",
              "      display:flex;\n",
              "      flex-wrap:wrap;\n",
              "      gap: 12px;\n",
              "    }\n",
              "\n",
              "    .colab-df-convert {\n",
              "      background-color: #E8F0FE;\n",
              "      border: none;\n",
              "      border-radius: 50%;\n",
              "      cursor: pointer;\n",
              "      display: none;\n",
              "      fill: #1967D2;\n",
              "      height: 32px;\n",
              "      padding: 0 0 0 0;\n",
              "      width: 32px;\n",
              "    }\n",
              "\n",
              "    .colab-df-convert:hover {\n",
              "      background-color: #E2EBFA;\n",
              "      box-shadow: 0px 1px 2px rgba(60, 64, 67, 0.3), 0px 1px 3px 1px rgba(60, 64, 67, 0.15);\n",
              "      fill: #174EA6;\n",
              "    }\n",
              "\n",
              "    [theme=dark] .colab-df-convert {\n",
              "      background-color: #3B4455;\n",
              "      fill: #D2E3FC;\n",
              "    }\n",
              "\n",
              "    [theme=dark] .colab-df-convert:hover {\n",
              "      background-color: #434B5C;\n",
              "      box-shadow: 0px 1px 3px 1px rgba(0, 0, 0, 0.15);\n",
              "      filter: drop-shadow(0px 1px 2px rgba(0, 0, 0, 0.3));\n",
              "      fill: #FFFFFF;\n",
              "    }\n",
              "  </style>\n",
              "\n",
              "      <script>\n",
              "        const buttonEl =\n",
              "          document.querySelector('#df-f9c8a749-ee63-49ae-a6e2-716e6bde5e13 button.colab-df-convert');\n",
              "        buttonEl.style.display =\n",
              "          google.colab.kernel.accessAllowed ? 'block' : 'none';\n",
              "\n",
              "        async function convertToInteractive(key) {\n",
              "          const element = document.querySelector('#df-f9c8a749-ee63-49ae-a6e2-716e6bde5e13');\n",
              "          const dataTable =\n",
              "            await google.colab.kernel.invokeFunction('convertToInteractive',\n",
              "                                                     [key], {});\n",
              "          if (!dataTable) return;\n",
              "\n",
              "          const docLinkHtml = 'Like what you see? Visit the ' +\n",
              "            '<a target=\"_blank\" href=https://colab.research.google.com/notebooks/data_table.ipynb>data table notebook</a>'\n",
              "            + ' to learn more about interactive tables.';\n",
              "          element.innerHTML = '';\n",
              "          dataTable['output_type'] = 'display_data';\n",
              "          await google.colab.output.renderOutput(dataTable, element);\n",
              "          const docLink = document.createElement('div');\n",
              "          docLink.innerHTML = docLinkHtml;\n",
              "          element.appendChild(docLink);\n",
              "        }\n",
              "      </script>\n",
              "    </div>\n",
              "  </div>\n",
              "  "
            ],
            "text/plain": [
              "                                        title_raw  is_english  has_form  \\\n",
              "0                                       quizzstar        True     False   \n",
              "1  juegosonce web oficial de la lotera de la once       False      True   \n",
              "2                              : : kakprosto.ru :        True      True   \n",
              "3                         standard chartered bank        True     False   \n",
              "4                                             NaN        True     False   \n",
              "\n",
              "   has_login_form  has_js  js_include_b64  nb_tokens  \\\n",
              "0           False    True           False        619   \n",
              "1            True    True            True        854   \n",
              "2            True    True            True        137   \n",
              "3           False   False           False          3   \n",
              "4           False    True           False         40   \n",
              "\n",
              "                                          text_clean classification  \n",
              "0  quizzstar fortune personality life friends lov...         benign  \n",
              "1  juegosonce web oficial de la lotera de la salt...         benign  \n",
              "2  kakprosto.ru javascript hi-tech new english ve...         benign  \n",
              "3                            standard chartered bank         benign  \n",
              "4  ummy video downloader english trke spaol bahas...         benign  "
            ]
          },
          "metadata": {},
          "output_type": "display_data"
        },
        {
          "data": {
            "text/html": [
              "\n",
              "  <div id=\"df-9fde0987-bc71-47d9-9d12-94e84a7d6d7c\">\n",
              "    <div class=\"colab-df-container\">\n",
              "      <div>\n",
              "<style scoped>\n",
              "    .dataframe tbody tr th:only-of-type {\n",
              "        vertical-align: middle;\n",
              "    }\n",
              "\n",
              "    .dataframe tbody tr th {\n",
              "        vertical-align: top;\n",
              "    }\n",
              "\n",
              "    .dataframe thead th {\n",
              "        text-align: right;\n",
              "    }\n",
              "</style>\n",
              "<table border=\"1\" class=\"dataframe\">\n",
              "  <thead>\n",
              "    <tr style=\"text-align: right;\">\n",
              "      <th></th>\n",
              "      <th>title_raw</th>\n",
              "      <th>is_english</th>\n",
              "      <th>has_form</th>\n",
              "      <th>has_login_form</th>\n",
              "      <th>has_js</th>\n",
              "      <th>js_include_b64</th>\n",
              "      <th>nb_tokens</th>\n",
              "      <th>text_clean</th>\n",
              "      <th>classification</th>\n",
              "    </tr>\n",
              "  </thead>\n",
              "  <tbody>\n",
              "    <tr>\n",
              "      <th>1994</th>\n",
              "      <td>...</td>\n",
              "      <td>True</td>\n",
              "      <td>False</td>\n",
              "      <td>True</td>\n",
              "      <td>True</td>\n",
              "      <td>False</td>\n",
              "      <td>6</td>\n",
              "      <td>... session expired password keep logged</td>\n",
              "      <td>malicious</td>\n",
              "    </tr>\n",
              "    <tr>\n",
              "      <th>1995</th>\n",
              "      <td>sign in</td>\n",
              "      <td>True</td>\n",
              "      <td>True</td>\n",
              "      <td>True</td>\n",
              "      <td>True</td>\n",
              "      <td>False</td>\n",
              "      <td>8</td>\n",
              "      <td>sign forgot password sign dont square account ...</td>\n",
              "      <td>malicious</td>\n",
              "    </tr>\n",
              "    <tr>\n",
              "      <th>1996</th>\n",
              "      <td>sign in to your account</td>\n",
              "      <td>True</td>\n",
              "      <td>True</td>\n",
              "      <td>True</td>\n",
              "      <td>True</td>\n",
              "      <td>False</td>\n",
              "      <td>21</td>\n",
              "      <td>sign account caroline.klein oecd.org enter pas...</td>\n",
              "      <td>malicious</td>\n",
              "    </tr>\n",
              "    <tr>\n",
              "      <th>1997</th>\n",
              "      <td>sign in</td>\n",
              "      <td>True</td>\n",
              "      <td>True</td>\n",
              "      <td>True</td>\n",
              "      <td>True</td>\n",
              "      <td>False</td>\n",
              "      <td>3</td>\n",
              "      <td>sign authenticating ...</td>\n",
              "      <td>malicious</td>\n",
              "    </tr>\n",
              "    <tr>\n",
              "      <th>1998</th>\n",
              "      <td>sign in to your account</td>\n",
              "      <td>True</td>\n",
              "      <td>False</td>\n",
              "      <td>True</td>\n",
              "      <td>True</td>\n",
              "      <td>False</td>\n",
              "      <td>31</td>\n",
              "      <td>sign account sign microsoft account n't exist ...</td>\n",
              "      <td>malicious</td>\n",
              "    </tr>\n",
              "  </tbody>\n",
              "</table>\n",
              "</div>\n",
              "      <button class=\"colab-df-convert\" onclick=\"convertToInteractive('df-9fde0987-bc71-47d9-9d12-94e84a7d6d7c')\"\n",
              "              title=\"Convert this dataframe to an interactive table.\"\n",
              "              style=\"display:none;\">\n",
              "        \n",
              "  <svg xmlns=\"http://www.w3.org/2000/svg\" height=\"24px\"viewBox=\"0 0 24 24\"\n",
              "       width=\"24px\">\n",
              "    <path d=\"M0 0h24v24H0V0z\" fill=\"none\"/>\n",
              "    <path d=\"M18.56 5.44l.94 2.06.94-2.06 2.06-.94-2.06-.94-.94-2.06-.94 2.06-2.06.94zm-11 1L8.5 8.5l.94-2.06 2.06-.94-2.06-.94L8.5 2.5l-.94 2.06-2.06.94zm10 10l.94 2.06.94-2.06 2.06-.94-2.06-.94-.94-2.06-.94 2.06-2.06.94z\"/><path d=\"M17.41 7.96l-1.37-1.37c-.4-.4-.92-.59-1.43-.59-.52 0-1.04.2-1.43.59L10.3 9.45l-7.72 7.72c-.78.78-.78 2.05 0 2.83L4 21.41c.39.39.9.59 1.41.59.51 0 1.02-.2 1.41-.59l7.78-7.78 2.81-2.81c.8-.78.8-2.07 0-2.86zM5.41 20L4 18.59l7.72-7.72 1.47 1.35L5.41 20z\"/>\n",
              "  </svg>\n",
              "      </button>\n",
              "      \n",
              "  <style>\n",
              "    .colab-df-container {\n",
              "      display:flex;\n",
              "      flex-wrap:wrap;\n",
              "      gap: 12px;\n",
              "    }\n",
              "\n",
              "    .colab-df-convert {\n",
              "      background-color: #E8F0FE;\n",
              "      border: none;\n",
              "      border-radius: 50%;\n",
              "      cursor: pointer;\n",
              "      display: none;\n",
              "      fill: #1967D2;\n",
              "      height: 32px;\n",
              "      padding: 0 0 0 0;\n",
              "      width: 32px;\n",
              "    }\n",
              "\n",
              "    .colab-df-convert:hover {\n",
              "      background-color: #E2EBFA;\n",
              "      box-shadow: 0px 1px 2px rgba(60, 64, 67, 0.3), 0px 1px 3px 1px rgba(60, 64, 67, 0.15);\n",
              "      fill: #174EA6;\n",
              "    }\n",
              "\n",
              "    [theme=dark] .colab-df-convert {\n",
              "      background-color: #3B4455;\n",
              "      fill: #D2E3FC;\n",
              "    }\n",
              "\n",
              "    [theme=dark] .colab-df-convert:hover {\n",
              "      background-color: #434B5C;\n",
              "      box-shadow: 0px 1px 3px 1px rgba(0, 0, 0, 0.15);\n",
              "      filter: drop-shadow(0px 1px 2px rgba(0, 0, 0, 0.3));\n",
              "      fill: #FFFFFF;\n",
              "    }\n",
              "  </style>\n",
              "\n",
              "      <script>\n",
              "        const buttonEl =\n",
              "          document.querySelector('#df-9fde0987-bc71-47d9-9d12-94e84a7d6d7c button.colab-df-convert');\n",
              "        buttonEl.style.display =\n",
              "          google.colab.kernel.accessAllowed ? 'block' : 'none';\n",
              "\n",
              "        async function convertToInteractive(key) {\n",
              "          const element = document.querySelector('#df-9fde0987-bc71-47d9-9d12-94e84a7d6d7c');\n",
              "          const dataTable =\n",
              "            await google.colab.kernel.invokeFunction('convertToInteractive',\n",
              "                                                     [key], {});\n",
              "          if (!dataTable) return;\n",
              "\n",
              "          const docLinkHtml = 'Like what you see? Visit the ' +\n",
              "            '<a target=\"_blank\" href=https://colab.research.google.com/notebooks/data_table.ipynb>data table notebook</a>'\n",
              "            + ' to learn more about interactive tables.';\n",
              "          element.innerHTML = '';\n",
              "          dataTable['output_type'] = 'display_data';\n",
              "          await google.colab.output.renderOutput(dataTable, element);\n",
              "          const docLink = document.createElement('div');\n",
              "          docLink.innerHTML = docLinkHtml;\n",
              "          element.appendChild(docLink);\n",
              "        }\n",
              "      </script>\n",
              "    </div>\n",
              "  </div>\n",
              "  "
            ],
            "text/plain": [
              "                    title_raw  is_english  has_form  has_login_form  has_js  \\\n",
              "1994                      ...        True     False            True    True   \n",
              "1995                  sign in        True      True            True    True   \n",
              "1996  sign in to your account        True      True            True    True   \n",
              "1997                  sign in        True      True            True    True   \n",
              "1998  sign in to your account        True     False            True    True   \n",
              "\n",
              "      js_include_b64  nb_tokens  \\\n",
              "1994           False          6   \n",
              "1995           False          8   \n",
              "1996           False         21   \n",
              "1997           False          3   \n",
              "1998           False         31   \n",
              "\n",
              "                                             text_clean classification  \n",
              "1994           ... session expired password keep logged      malicious  \n",
              "1995  sign forgot password sign dont square account ...      malicious  \n",
              "1996  sign account caroline.klein oecd.org enter pas...      malicious  \n",
              "1997                            sign authenticating ...      malicious  \n",
              "1998  sign account sign microsoft account n't exist ...      malicious  "
            ]
          },
          "metadata": {},
          "output_type": "display_data"
        }
      ],
      "source": [
        "display(df_features.head(5))\n",
        "display(df_features.tail(5))"
      ]
    },
    {
      "cell_type": "markdown",
      "metadata": {
        "id": "5z0WfRK1ZYy-"
      },
      "source": [
        "### Initial Filtering"
      ]
    },
    {
      "cell_type": "markdown",
      "metadata": {
        "id": "aWdZHphEvVri"
      },
      "source": [
        "After specifying the file containing our dataset, we load its contents into a `DataFrame` object. Some additional filtering is done on the dataset to eliminate rows:\n",
        "\n",
        "* **Minimum Tokens**; We  filter out webpages that to not have the required minimum of tokens;\n",
        "* **Minimum Tokens**; We also filter out webpages that have an outsized number of tokens;\n",
        "* **Maximum Number of N-Grams**; The number of n-grams to include in our `CountVectorizer` object;\n",
        "* **Non-English Webpages**; We only consider webpages written in English."
      ]
    },
    {
      "cell_type": "code",
      "execution_count": 12,
      "metadata": {
        "cellView": "form",
        "id": "NQwpUiuev4-I"
      },
      "outputs": [],
      "source": [
        "#@title Filtering Options\n",
        "min_tokens = 7 #@param { type:\"integer\" }\n",
        "max_tokens = 500 #@param { type:\"integer\" }\n",
        "max_words = 250 #@param { type:\"integer\" }\n",
        "english_only = True #@param { type:\"boolean\" }"
      ]
    },
    {
      "cell_type": "markdown",
      "metadata": {
        "id": "6AjsF1QI1P3J"
      },
      "source": [
        "We then perform some additional cleaning and filtering on the dataset generated. "
      ]
    },
    {
      "cell_type": "code",
      "execution_count": 13,
      "metadata": {
        "colab": {
          "base_uri": "https://localhost:8080/",
          "height": 380
        },
        "id": "ILqN50qS4GVG",
        "outputId": "27a0df76-afb9-43da-fc1c-ad7527c699c5"
      },
      "outputs": [
        {
          "ename": "KeyError",
          "evalue": "ignored",
          "output_type": "error",
          "traceback": [
            "\u001b[0;31m---------------------------------------------------------------------------\u001b[0m",
            "\u001b[0;31mKeyError\u001b[0m                                  Traceback (most recent call last)",
            "\u001b[0;32m<ipython-input-13-fa2e585c3765>\u001b[0m in \u001b[0;36m<module>\u001b[0;34m\u001b[0m\n\u001b[1;32m      3\u001b[0m     \u001b[0mdf_features\u001b[0m \u001b[0;34m=\u001b[0m \u001b[0mdf_features\u001b[0m\u001b[0;34m[\u001b[0m\u001b[0mdf_features\u001b[0m\u001b[0;34m[\u001b[0m\u001b[0;34m'is_english'\u001b[0m\u001b[0;34m]\u001b[0m \u001b[0;34m==\u001b[0m \u001b[0;32mTrue\u001b[0m\u001b[0;34m]\u001b[0m\u001b[0;34m\u001b[0m\u001b[0;34m\u001b[0m\u001b[0m\n\u001b[1;32m      4\u001b[0m \u001b[0;31m# Drop unneeded columns\u001b[0m\u001b[0;34m\u001b[0m\u001b[0;34m\u001b[0m\u001b[0m\n\u001b[0;32m----> 5\u001b[0;31m \u001b[0mdf_features\u001b[0m\u001b[0;34m.\u001b[0m\u001b[0mdrop\u001b[0m\u001b[0;34m(\u001b[0m\u001b[0;34m'is_english'\u001b[0m\u001b[0;34m,\u001b[0m \u001b[0maxis\u001b[0m\u001b[0;34m=\u001b[0m\u001b[0;36m1\u001b[0m\u001b[0;34m,\u001b[0m \u001b[0minplace\u001b[0m\u001b[0;34m=\u001b[0m\u001b[0;32mTrue\u001b[0m\u001b[0;34m)\u001b[0m\u001b[0;34m\u001b[0m\u001b[0;34m\u001b[0m\u001b[0m\n\u001b[0m\u001b[1;32m      6\u001b[0m \u001b[0mdf_features\u001b[0m\u001b[0;34m.\u001b[0m\u001b[0mdrop\u001b[0m\u001b[0;34m(\u001b[0m\u001b[0;34m'title_raw'\u001b[0m\u001b[0;34m,\u001b[0m \u001b[0maxis\u001b[0m\u001b[0;34m=\u001b[0m\u001b[0;36m1\u001b[0m\u001b[0;34m,\u001b[0m \u001b[0minplace\u001b[0m\u001b[0;34m=\u001b[0m\u001b[0;32mTrue\u001b[0m\u001b[0;34m)\u001b[0m\u001b[0;34m\u001b[0m\u001b[0;34m\u001b[0m\u001b[0m\n\u001b[1;32m      7\u001b[0m \u001b[0;31m# Keep rows with at least 3 tokens in the `text_clean` column\u001b[0m\u001b[0;34m\u001b[0m\u001b[0;34m\u001b[0m\u001b[0m\n",
            "\u001b[0;32m/usr/local/lib/python3.9/dist-packages/pandas/util/_decorators.py\u001b[0m in \u001b[0;36mwrapper\u001b[0;34m(*args, **kwargs)\u001b[0m\n\u001b[1;32m    309\u001b[0m                     \u001b[0mstacklevel\u001b[0m\u001b[0;34m=\u001b[0m\u001b[0mstacklevel\u001b[0m\u001b[0;34m,\u001b[0m\u001b[0;34m\u001b[0m\u001b[0;34m\u001b[0m\u001b[0m\n\u001b[1;32m    310\u001b[0m                 )\n\u001b[0;32m--> 311\u001b[0;31m             \u001b[0;32mreturn\u001b[0m \u001b[0mfunc\u001b[0m\u001b[0;34m(\u001b[0m\u001b[0;34m*\u001b[0m\u001b[0margs\u001b[0m\u001b[0;34m,\u001b[0m \u001b[0;34m**\u001b[0m\u001b[0mkwargs\u001b[0m\u001b[0;34m)\u001b[0m\u001b[0;34m\u001b[0m\u001b[0;34m\u001b[0m\u001b[0m\n\u001b[0m\u001b[1;32m    312\u001b[0m \u001b[0;34m\u001b[0m\u001b[0m\n\u001b[1;32m    313\u001b[0m         \u001b[0;32mreturn\u001b[0m \u001b[0mwrapper\u001b[0m\u001b[0;34m\u001b[0m\u001b[0;34m\u001b[0m\u001b[0m\n",
            "\u001b[0;32m/usr/local/lib/python3.9/dist-packages/pandas/core/frame.py\u001b[0m in \u001b[0;36mdrop\u001b[0;34m(self, labels, axis, index, columns, level, inplace, errors)\u001b[0m\n\u001b[1;32m   4955\u001b[0m                 \u001b[0mweight\u001b[0m  \u001b[0;36m1.0\u001b[0m     \u001b[0;36m0.8\u001b[0m\u001b[0;34m\u001b[0m\u001b[0;34m\u001b[0m\u001b[0m\n\u001b[1;32m   4956\u001b[0m         \"\"\"\n\u001b[0;32m-> 4957\u001b[0;31m         return super().drop(\n\u001b[0m\u001b[1;32m   4958\u001b[0m             \u001b[0mlabels\u001b[0m\u001b[0;34m=\u001b[0m\u001b[0mlabels\u001b[0m\u001b[0;34m,\u001b[0m\u001b[0;34m\u001b[0m\u001b[0;34m\u001b[0m\u001b[0m\n\u001b[1;32m   4959\u001b[0m             \u001b[0maxis\u001b[0m\u001b[0;34m=\u001b[0m\u001b[0maxis\u001b[0m\u001b[0;34m,\u001b[0m\u001b[0;34m\u001b[0m\u001b[0;34m\u001b[0m\u001b[0m\n",
            "\u001b[0;32m/usr/local/lib/python3.9/dist-packages/pandas/core/generic.py\u001b[0m in \u001b[0;36mdrop\u001b[0;34m(self, labels, axis, index, columns, level, inplace, errors)\u001b[0m\n\u001b[1;32m   4265\u001b[0m         \u001b[0;32mfor\u001b[0m \u001b[0maxis\u001b[0m\u001b[0;34m,\u001b[0m \u001b[0mlabels\u001b[0m \u001b[0;32min\u001b[0m \u001b[0maxes\u001b[0m\u001b[0;34m.\u001b[0m\u001b[0mitems\u001b[0m\u001b[0;34m(\u001b[0m\u001b[0;34m)\u001b[0m\u001b[0;34m:\u001b[0m\u001b[0;34m\u001b[0m\u001b[0;34m\u001b[0m\u001b[0m\n\u001b[1;32m   4266\u001b[0m             \u001b[0;32mif\u001b[0m \u001b[0mlabels\u001b[0m \u001b[0;32mis\u001b[0m \u001b[0;32mnot\u001b[0m \u001b[0;32mNone\u001b[0m\u001b[0;34m:\u001b[0m\u001b[0;34m\u001b[0m\u001b[0;34m\u001b[0m\u001b[0m\n\u001b[0;32m-> 4267\u001b[0;31m                 \u001b[0mobj\u001b[0m \u001b[0;34m=\u001b[0m \u001b[0mobj\u001b[0m\u001b[0;34m.\u001b[0m\u001b[0m_drop_axis\u001b[0m\u001b[0;34m(\u001b[0m\u001b[0mlabels\u001b[0m\u001b[0;34m,\u001b[0m \u001b[0maxis\u001b[0m\u001b[0;34m,\u001b[0m \u001b[0mlevel\u001b[0m\u001b[0;34m=\u001b[0m\u001b[0mlevel\u001b[0m\u001b[0;34m,\u001b[0m \u001b[0merrors\u001b[0m\u001b[0;34m=\u001b[0m\u001b[0merrors\u001b[0m\u001b[0;34m)\u001b[0m\u001b[0;34m\u001b[0m\u001b[0;34m\u001b[0m\u001b[0m\n\u001b[0m\u001b[1;32m   4268\u001b[0m \u001b[0;34m\u001b[0m\u001b[0m\n\u001b[1;32m   4269\u001b[0m         \u001b[0;32mif\u001b[0m \u001b[0minplace\u001b[0m\u001b[0;34m:\u001b[0m\u001b[0;34m\u001b[0m\u001b[0;34m\u001b[0m\u001b[0m\n",
            "\u001b[0;32m/usr/local/lib/python3.9/dist-packages/pandas/core/generic.py\u001b[0m in \u001b[0;36m_drop_axis\u001b[0;34m(self, labels, axis, level, errors, consolidate, only_slice)\u001b[0m\n\u001b[1;32m   4309\u001b[0m                 \u001b[0mnew_axis\u001b[0m \u001b[0;34m=\u001b[0m \u001b[0maxis\u001b[0m\u001b[0;34m.\u001b[0m\u001b[0mdrop\u001b[0m\u001b[0;34m(\u001b[0m\u001b[0mlabels\u001b[0m\u001b[0;34m,\u001b[0m \u001b[0mlevel\u001b[0m\u001b[0;34m=\u001b[0m\u001b[0mlevel\u001b[0m\u001b[0;34m,\u001b[0m \u001b[0merrors\u001b[0m\u001b[0;34m=\u001b[0m\u001b[0merrors\u001b[0m\u001b[0;34m)\u001b[0m\u001b[0;34m\u001b[0m\u001b[0;34m\u001b[0m\u001b[0m\n\u001b[1;32m   4310\u001b[0m             \u001b[0;32melse\u001b[0m\u001b[0;34m:\u001b[0m\u001b[0;34m\u001b[0m\u001b[0;34m\u001b[0m\u001b[0m\n\u001b[0;32m-> 4311\u001b[0;31m                 \u001b[0mnew_axis\u001b[0m \u001b[0;34m=\u001b[0m \u001b[0maxis\u001b[0m\u001b[0;34m.\u001b[0m\u001b[0mdrop\u001b[0m\u001b[0;34m(\u001b[0m\u001b[0mlabels\u001b[0m\u001b[0;34m,\u001b[0m \u001b[0merrors\u001b[0m\u001b[0;34m=\u001b[0m\u001b[0merrors\u001b[0m\u001b[0;34m)\u001b[0m\u001b[0;34m\u001b[0m\u001b[0;34m\u001b[0m\u001b[0m\n\u001b[0m\u001b[1;32m   4312\u001b[0m             \u001b[0mindexer\u001b[0m \u001b[0;34m=\u001b[0m \u001b[0maxis\u001b[0m\u001b[0;34m.\u001b[0m\u001b[0mget_indexer\u001b[0m\u001b[0;34m(\u001b[0m\u001b[0mnew_axis\u001b[0m\u001b[0;34m)\u001b[0m\u001b[0;34m\u001b[0m\u001b[0;34m\u001b[0m\u001b[0m\n\u001b[1;32m   4313\u001b[0m \u001b[0;34m\u001b[0m\u001b[0m\n",
            "\u001b[0;32m/usr/local/lib/python3.9/dist-packages/pandas/core/indexes/base.py\u001b[0m in \u001b[0;36mdrop\u001b[0;34m(self, labels, errors)\u001b[0m\n\u001b[1;32m   6659\u001b[0m         \u001b[0;32mif\u001b[0m \u001b[0mmask\u001b[0m\u001b[0;34m.\u001b[0m\u001b[0many\u001b[0m\u001b[0;34m(\u001b[0m\u001b[0;34m)\u001b[0m\u001b[0;34m:\u001b[0m\u001b[0;34m\u001b[0m\u001b[0;34m\u001b[0m\u001b[0m\n\u001b[1;32m   6660\u001b[0m             \u001b[0;32mif\u001b[0m \u001b[0merrors\u001b[0m \u001b[0;34m!=\u001b[0m \u001b[0;34m\"ignore\"\u001b[0m\u001b[0;34m:\u001b[0m\u001b[0;34m\u001b[0m\u001b[0;34m\u001b[0m\u001b[0m\n\u001b[0;32m-> 6661\u001b[0;31m                 \u001b[0;32mraise\u001b[0m \u001b[0mKeyError\u001b[0m\u001b[0;34m(\u001b[0m\u001b[0;34mf\"{list(labels[mask])} not found in axis\"\u001b[0m\u001b[0;34m)\u001b[0m\u001b[0;34m\u001b[0m\u001b[0;34m\u001b[0m\u001b[0m\n\u001b[0m\u001b[1;32m   6662\u001b[0m             \u001b[0mindexer\u001b[0m \u001b[0;34m=\u001b[0m \u001b[0mindexer\u001b[0m\u001b[0;34m[\u001b[0m\u001b[0;34m~\u001b[0m\u001b[0mmask\u001b[0m\u001b[0;34m]\u001b[0m\u001b[0;34m\u001b[0m\u001b[0;34m\u001b[0m\u001b[0m\n\u001b[1;32m   6663\u001b[0m         \u001b[0;32mreturn\u001b[0m \u001b[0mself\u001b[0m\u001b[0;34m.\u001b[0m\u001b[0mdelete\u001b[0m\u001b[0;34m(\u001b[0m\u001b[0mindexer\u001b[0m\u001b[0;34m)\u001b[0m\u001b[0;34m\u001b[0m\u001b[0;34m\u001b[0m\u001b[0m\n",
            "\u001b[0;31mKeyError\u001b[0m: \"['is_english'] not found in axis\""
          ]
        }
      ],
      "source": [
        "%%capture\n",
        "# remove rows containing foreign languages\n",
        "if english_only and 'is_english' in df_features:\n",
        "    df_features = df_features[df_features['is_english'] == True]\n",
        "# Drop unneeded columns\n",
        "df_features.drop('is_english', axis=1, inplace=True)\n",
        "df_features.drop('title_raw', axis=1, inplace=True)\n",
        "# Keep rows with at the required amount of tokens\n",
        "df_features = df_features[(df_features['nb_tokens'] >= min_tokens) &  (df_features['nb_tokens'] <= max_tokens)]\n",
        "# Remove misclassified rows\n",
        "df_features = df_features[(df_features['classification'] == 'benign') | (df_features['classification'] == 'malicious')]\n",
        "# Remove strings containing special characters or\n",
        "# misparsed HTML tags and code.\n",
        "df_features['text_clean'] = df_features['text_clean'].str.replace('_',' ',regex=True)\n",
        "df_features['text_clean'] = df_features['text_clean'].str.replace('//',' ',regex=True)\n",
        "df_features['text_clean'] = df_features['text_clean'].str.replace('javascript','',regex=True)\n",
        "df_features['text_clean'] = df_features['text_clean'].str.replace('https','',regex=True)\n",
        "df_features['text_clean'] = df_features['text_clean'].str.replace('http','',regex=True)"
      ]
    },
    {
      "cell_type": "markdown",
      "metadata": {
        "id": "lHT3jxdBZix4"
      },
      "source": [
        "### Dataset Information"
      ]
    },
    {
      "cell_type": "markdown",
      "metadata": {
        "id": "8ZDdO2Nw1Uza"
      },
      "source": [
        "#### Size"
      ]
    },
    {
      "cell_type": "code",
      "execution_count": 11,
      "metadata": {
        "colab": {
          "base_uri": "https://localhost:8080/"
        },
        "id": "nkOKxrwxLbwP",
        "outputId": "b4de7e5a-9510-4e2b-bcb1-8501e8c56d18"
      },
      "outputs": [
        {
          "name": "stdout",
          "output_type": "stream",
          "text": [
            "The features dataset contains 791 rows and 7 columns.\n"
          ]
        }
      ],
      "source": [
        "print(f\"The features dataset contains {df_features.shape[0]} rows and {df_features.shape[1]} columns.\")"
      ]
    },
    {
      "cell_type": "markdown",
      "metadata": {
        "id": "evkuf9IF1WXd"
      },
      "source": [
        "#### Empty Columns"
      ]
    },
    {
      "cell_type": "code",
      "execution_count": 14,
      "metadata": {
        "colab": {
          "base_uri": "https://localhost:8080/"
        },
        "id": "ixppEfvWLQrB",
        "outputId": "cfc45d2c-f18f-4e95-f87a-18677d80b170"
      },
      "outputs": [
        {
          "data": {
            "text/plain": [
              "has_form          0\n",
              "has_login_form    0\n",
              "has_js            0\n",
              "js_include_b64    0\n",
              "nb_tokens         0\n",
              "text_clean        0\n",
              "classification    0\n",
              "dtype: int64"
            ]
          },
          "execution_count": 14,
          "metadata": {},
          "output_type": "execute_result"
        }
      ],
      "source": [
        "df_features.isnull().sum()"
      ]
    },
    {
      "cell_type": "markdown",
      "metadata": {
        "id": "44_PBZEw1YyY"
      },
      "source": [
        "#### Labels"
      ]
    },
    {
      "attachments": {},
      "cell_type": "markdown",
      "metadata": {},
      "source": [
        "By reviewing the labels, we notice that there is a larger number of malicious samples than benign ones, which may require us to consider when generating our classifier to have a more balanced distribution."
      ]
    },
    {
      "cell_type": "code",
      "execution_count": 15,
      "metadata": {
        "colab": {
          "base_uri": "https://localhost:8080/",
          "height": 320
        },
        "id": "utKU5wHv0JU3",
        "outputId": "e9f157d8-d457-4684-bfbd-b9146b5e37ea"
      },
      "outputs": [
        {
          "data": {
            "text/plain": [
              "<AxesSubplot:>"
            ]
          },
          "execution_count": 15,
          "metadata": {},
          "output_type": "execute_result"
        },
        {
          "data": {
            "image/png": "[encoded data removed]",
            "text/plain": [
              "<Figure size 432x288 with 1 Axes>"
            ]
          },
          "metadata": {
            "needs_background": "light"
          },
          "output_type": "display_data"
        }
      ],
      "source": [
        "import matplotlib.pyplot as plt\n",
        "\n",
        "# assume \"df\" is your DataFrame object\n",
        "classification_counts = df_features['classification'].value_counts()\n",
        "\n",
        "# plot the histogram\n",
        "classification_counts.plot(kind='bar')\n"
      ]
    },
    {
      "cell_type": "markdown",
      "metadata": {
        "id": "9t-vxBYn1wvD"
      },
      "source": [
        "#### Form Data"
      ]
    },
    {
      "cell_type": "code",
      "execution_count": 16,
      "metadata": {
        "colab": {
          "base_uri": "https://localhost:8080/",
          "height": 298
        },
        "id": "lxvcV30y1uPC",
        "outputId": "640242d0-c1bc-40cd-f837-2056448cf042"
      },
      "outputs": [
        {
          "data": {
            "text/plain": [
              "<AxesSubplot:>"
            ]
          },
          "execution_count": 16,
          "metadata": {},
          "output_type": "execute_result"
        },
        {
          "data": {
            "image/png": "[encoded data removed]",
            "text/plain": [
              "<Figure size 432x288 with 1 Axes>"
            ]
          },
          "metadata": {
            "needs_background": "light"
          },
          "output_type": "display_data"
        }
      ],
      "source": [
        "import matplotlib.pyplot as plt\n",
        "\n",
        "# assume \"df\" is your DataFrame object\n",
        "classification_counts = df_features['has_form'].value_counts()\n",
        "\n",
        "# plot the histogram\n",
        "classification_counts.plot(kind='bar')"
      ]
    },
    {
      "cell_type": "code",
      "execution_count": 17,
      "metadata": {
        "colab": {
          "base_uri": "https://localhost:8080/",
          "height": 298
        },
        "id": "0_cBc8vn11-N",
        "outputId": "91e6263a-186c-469e-89e5-63bf1a17980e"
      },
      "outputs": [
        {
          "data": {
            "text/plain": [
              "<AxesSubplot:>"
            ]
          },
          "execution_count": 17,
          "metadata": {},
          "output_type": "execute_result"
        },
        {
          "data": {
            "image/png": "[encoded data removed]",
            "text/plain": [
              "<Figure size 432x288 with 1 Axes>"
            ]
          },
          "metadata": {
            "needs_background": "light"
          },
          "output_type": "display_data"
        }
      ],
      "source": [
        "import matplotlib.pyplot as plt\n",
        "\n",
        "# assume \"df\" is your DataFrame object\n",
        "classification_counts = df_features['has_login_form'].value_counts()\n",
        "\n",
        "# plot the histogram\n",
        "classification_counts.plot(kind='bar')"
      ]
    },
    {
      "cell_type": "markdown",
      "metadata": {
        "id": "y1VM2DgA15My"
      },
      "source": [
        "#### JavaScript Data"
      ]
    },
    {
      "cell_type": "markdown",
      "metadata": {
        "id": "hnaL1tEy2wjN"
      },
      "source": [
        "The presence of JavaScript from webpages is collected. _JavaScript_ is widely used on many webpages ot provide dynamic content. It can also be used for cross-site scripting and inject remote malicious code in the page."
      ]
    },
    {
      "cell_type": "code",
      "execution_count": 18,
      "metadata": {
        "colab": {
          "base_uri": "https://localhost:8080/",
          "height": 298
        },
        "id": "iKdmV9PQ17Fk",
        "outputId": "5f40f955-7aee-4b48-9438-8cd1295facc6"
      },
      "outputs": [
        {
          "data": {
            "text/plain": [
              "<AxesSubplot:>"
            ]
          },
          "execution_count": 18,
          "metadata": {},
          "output_type": "execute_result"
        },
        {
          "data": {
            "image/png": "[encoded data removed]",
            "text/plain": [
              "<Figure size 432x288 with 1 Axes>"
            ]
          },
          "metadata": {
            "needs_background": "light"
          },
          "output_type": "display_data"
        }
      ],
      "source": [
        "import matplotlib.pyplot as plt\n",
        "\n",
        "# assume \"df\" is your DataFrame object\n",
        "classification_counts = df_features['has_js'].value_counts()\n",
        "\n",
        "# plot the histogram\n",
        "classification_counts.plot(kind='bar')"
      ]
    },
    {
      "attachments": {},
      "cell_type": "markdown",
      "metadata": {
        "id": "-mEwfNrF2P9d"
      },
      "source": [
        "We collect information about the presence of Base64 encoded-string in webpages. _Base64_ is often used to obfuscated malicious JavaScript code. While this is not common, when this feature is present, there may be a high correlation between this feature the malicious webpages."
      ]
    },
    {
      "cell_type": "code",
      "execution_count": 19,
      "metadata": {
        "colab": {
          "base_uri": "https://localhost:8080/",
          "height": 299
        },
        "id": "6UtY6CNt1-nD",
        "outputId": "3c4998c2-3796-4b73-c292-7d45076602a4"
      },
      "outputs": [
        {
          "data": {
            "text/plain": [
              "<AxesSubplot:>"
            ]
          },
          "execution_count": 19,
          "metadata": {},
          "output_type": "execute_result"
        },
        {
          "data": {
            "image/png": "[encoded data removed]",
            "text/plain": [
              "<Figure size 432x288 with 1 Axes>"
            ]
          },
          "metadata": {
            "needs_background": "light"
          },
          "output_type": "display_data"
        }
      ],
      "source": [
        "import matplotlib.pyplot as plt\n",
        "\n",
        "# assume \"df\" is your DataFrame object\n",
        "classification_counts = df_features['js_include_b64'].value_counts()\n",
        "\n",
        "# plot the histogram\n",
        "classification_counts.plot(kind='bar')"
      ]
    },
    {
      "cell_type": "markdown",
      "metadata": {
        "id": "UY6P4c3BxCi9"
      },
      "source": [
        "### Text Analysis Model\n",
        "\n",
        "The focus is then shifted into analysing the tokens extracted from the text of each websites remaining in the dataset."
      ]
    },
    {
      "cell_type": "markdown",
      "metadata": {
        "id": "HpaKFu3k4HvL"
      },
      "source": [
        "#### Stop Words\n",
        "\n",
        "After multiple iterations, custom stop words were included from the default English stop words from the `ntlk` framework. These includes:\n",
        "\n",
        "* **ccTLDs**. Country-Coded Top-Level Domains associated with URLs embedded in some webpages. While the entire URL is useful, the country code, by itself, is not;\n",
        "* **HTML tags**. Despite the parser's best efforts, some HTML tags remain embedded in the code. As such, we try to reduce some of the HTML code left behind;\n",
        "* **Adverbs**. Some adverbs, such as _also_ or _may_ are not useful to the analysis."
      ]
    },
    {
      "cell_type": "code",
      "execution_count": 21,
      "metadata": {
        "id": "dolmjp854sCh"
      },
      "outputs": [],
      "source": [
        "from nltk.corpus import stopwords\n",
        "\n",
        "# Load the default list of English stop words\n",
        "default_stop_words = stopwords.words('english')\n",
        "\n",
        "# Create the classifier\n",
        "# Pass the complete dataset as data and the featured to be predicted as target\n",
        "# Add custom stop words here:\n",
        "custom_stop_words = [\"com\", \"ca\", \"go\", \"td\", \"tr\"\n",
        "            \"px\", \"co\", \"uv\", \"ru\",\n",
        "            \"mx\", \"also\", \"use\", \"abc\",\n",
        "            \"wo\", \"may\", \"oo\", \"javascript\", \"www\",\n",
        "            \"html\", \"id\", \"class\", \"http\", \"https\"]\n",
        "\n",
        "# Append the custom list to the default list of stop words\n",
        "stop_words = default_stop_words + custom_stop_words\n"
      ]
    },
    {
      "attachments": {},
      "cell_type": "markdown",
      "metadata": {
        "id": "8KyOF-Yz4fAs"
      },
      "source": [
        "Given our list of custom stop words, we then generate the `CountVectorizer` to create our matrix of word counts from the `text_clean` column of the `df_features` dataframe.\n",
        "\n",
        "The tokens are focused on generating counts of 2 and 3-grams. This is because many of the phishing sites appears to re-used common terms that provide more context when considered as 2-grams. For example, \"Sign Up\", \"Log In\", \"Reset Password\" etc.... We also ignore tokens that have very low frequencies or very high frequencies. In this case, we used 1.5% and 80% based on other models reviewed. More research would be required to determine if this range is maximal.\n",
        "\n",
        "The `csr_matrix` generated by the `CountVectorizer` is then converted into a `pandas.DataFrame` to be used with the `setup` function of `pycaret`."
      ]
    },
    {
      "cell_type": "code",
      "execution_count": 22,
      "metadata": {
        "colab": {
          "base_uri": "https://localhost:8080/",
          "height": 334
        },
        "id": "rHl-yELb4eRi",
        "outputId": "f5df45b4-d51e-4a22-abd0-e92c76aa09f0"
      },
      "outputs": [
        {
          "data": {
            "text/html": [
              "\n",
              "  <div id=\"df-88dc5dc5-2b2c-4214-9f07-86a69e4a129c\">\n",
              "    <div class=\"colab-df-container\">\n",
              "      <div>\n",
              "<style scoped>\n",
              "    .dataframe tbody tr th:only-of-type {\n",
              "        vertical-align: middle;\n",
              "    }\n",
              "\n",
              "    .dataframe tbody tr th {\n",
              "        vertical-align: top;\n",
              "    }\n",
              "\n",
              "    .dataframe thead th {\n",
              "        text-align: right;\n",
              "    }\n",
              "</style>\n",
              "<table border=\"1\" class=\"dataframe\">\n",
              "  <thead>\n",
              "    <tr style=\"text-align: right;\">\n",
              "      <th></th>\n",
              "      <th>access account</th>\n",
              "      <th>account account</th>\n",
              "      <th>account account create</th>\n",
              "      <th>account create</th>\n",
              "      <th>account create account</th>\n",
              "      <th>account create one</th>\n",
              "      <th>account everything</th>\n",
              "      <th>account everything google</th>\n",
              "      <th>account google</th>\n",
              "      <th>account google sign</th>\n",
              "      <th>...</th>\n",
              "      <th>webmail get support</th>\n",
              "      <th>webmail login</th>\n",
              "      <th>webmail service</th>\n",
              "      <th>webmail welcome</th>\n",
              "      <th>webmail welcome easymail</th>\n",
              "      <th>welcome easymail</th>\n",
              "      <th>welcome easymail webmail</th>\n",
              "      <th>wells fargo</th>\n",
              "      <th>worldwide delivery</th>\n",
              "      <th>worldwide delivery rights</th>\n",
              "    </tr>\n",
              "  </thead>\n",
              "  <tbody>\n",
              "    <tr>\n",
              "      <th>0</th>\n",
              "      <td>0</td>\n",
              "      <td>0</td>\n",
              "      <td>0</td>\n",
              "      <td>0</td>\n",
              "      <td>0</td>\n",
              "      <td>0</td>\n",
              "      <td>0</td>\n",
              "      <td>0</td>\n",
              "      <td>0</td>\n",
              "      <td>0</td>\n",
              "      <td>...</td>\n",
              "      <td>0</td>\n",
              "      <td>0</td>\n",
              "      <td>0</td>\n",
              "      <td>0</td>\n",
              "      <td>0</td>\n",
              "      <td>0</td>\n",
              "      <td>0</td>\n",
              "      <td>0</td>\n",
              "      <td>0</td>\n",
              "      <td>0</td>\n",
              "    </tr>\n",
              "    <tr>\n",
              "      <th>1</th>\n",
              "      <td>0</td>\n",
              "      <td>0</td>\n",
              "      <td>0</td>\n",
              "      <td>0</td>\n",
              "      <td>0</td>\n",
              "      <td>0</td>\n",
              "      <td>0</td>\n",
              "      <td>0</td>\n",
              "      <td>0</td>\n",
              "      <td>0</td>\n",
              "      <td>...</td>\n",
              "      <td>0</td>\n",
              "      <td>0</td>\n",
              "      <td>0</td>\n",
              "      <td>0</td>\n",
              "      <td>0</td>\n",
              "      <td>0</td>\n",
              "      <td>0</td>\n",
              "      <td>0</td>\n",
              "      <td>0</td>\n",
              "      <td>0</td>\n",
              "    </tr>\n",
              "    <tr>\n",
              "      <th>2</th>\n",
              "      <td>0</td>\n",
              "      <td>0</td>\n",
              "      <td>0</td>\n",
              "      <td>0</td>\n",
              "      <td>0</td>\n",
              "      <td>0</td>\n",
              "      <td>0</td>\n",
              "      <td>0</td>\n",
              "      <td>0</td>\n",
              "      <td>0</td>\n",
              "      <td>...</td>\n",
              "      <td>0</td>\n",
              "      <td>0</td>\n",
              "      <td>0</td>\n",
              "      <td>0</td>\n",
              "      <td>0</td>\n",
              "      <td>0</td>\n",
              "      <td>0</td>\n",
              "      <td>0</td>\n",
              "      <td>0</td>\n",
              "      <td>0</td>\n",
              "    </tr>\n",
              "    <tr>\n",
              "      <th>3</th>\n",
              "      <td>0</td>\n",
              "      <td>0</td>\n",
              "      <td>0</td>\n",
              "      <td>0</td>\n",
              "      <td>0</td>\n",
              "      <td>0</td>\n",
              "      <td>0</td>\n",
              "      <td>0</td>\n",
              "      <td>0</td>\n",
              "      <td>0</td>\n",
              "      <td>...</td>\n",
              "      <td>0</td>\n",
              "      <td>0</td>\n",
              "      <td>0</td>\n",
              "      <td>0</td>\n",
              "      <td>0</td>\n",
              "      <td>0</td>\n",
              "      <td>0</td>\n",
              "      <td>0</td>\n",
              "      <td>0</td>\n",
              "      <td>0</td>\n",
              "    </tr>\n",
              "    <tr>\n",
              "      <th>4</th>\n",
              "      <td>0</td>\n",
              "      <td>0</td>\n",
              "      <td>0</td>\n",
              "      <td>0</td>\n",
              "      <td>0</td>\n",
              "      <td>0</td>\n",
              "      <td>0</td>\n",
              "      <td>0</td>\n",
              "      <td>0</td>\n",
              "      <td>0</td>\n",
              "      <td>...</td>\n",
              "      <td>0</td>\n",
              "      <td>0</td>\n",
              "      <td>0</td>\n",
              "      <td>0</td>\n",
              "      <td>0</td>\n",
              "      <td>0</td>\n",
              "      <td>0</td>\n",
              "      <td>0</td>\n",
              "      <td>0</td>\n",
              "      <td>0</td>\n",
              "    </tr>\n",
              "  </tbody>\n",
              "</table>\n",
              "<p>5 rows × 250 columns</p>\n",
              "</div>\n",
              "      <button class=\"colab-df-convert\" onclick=\"convertToInteractive('df-88dc5dc5-2b2c-4214-9f07-86a69e4a129c')\"\n",
              "              title=\"Convert this dataframe to an interactive table.\"\n",
              "              style=\"display:none;\">\n",
              "        \n",
              "  <svg xmlns=\"http://www.w3.org/2000/svg\" height=\"24px\"viewBox=\"0 0 24 24\"\n",
              "       width=\"24px\">\n",
              "    <path d=\"M0 0h24v24H0V0z\" fill=\"none\"/>\n",
              "    <path d=\"M18.56 5.44l.94 2.06.94-2.06 2.06-.94-2.06-.94-.94-2.06-.94 2.06-2.06.94zm-11 1L8.5 8.5l.94-2.06 2.06-.94-2.06-.94L8.5 2.5l-.94 2.06-2.06.94zm10 10l.94 2.06.94-2.06 2.06-.94-2.06-.94-.94-2.06-.94 2.06-2.06.94z\"/><path d=\"M17.41 7.96l-1.37-1.37c-.4-.4-.92-.59-1.43-.59-.52 0-1.04.2-1.43.59L10.3 9.45l-7.72 7.72c-.78.78-.78 2.05 0 2.83L4 21.41c.39.39.9.59 1.41.59.51 0 1.02-.2 1.41-.59l7.78-7.78 2.81-2.81c.8-.78.8-2.07 0-2.86zM5.41 20L4 18.59l7.72-7.72 1.47 1.35L5.41 20z\"/>\n",
              "  </svg>\n",
              "      </button>\n",
              "      \n",
              "  <style>\n",
              "    .colab-df-container {\n",
              "      display:flex;\n",
              "      flex-wrap:wrap;\n",
              "      gap: 12px;\n",
              "    }\n",
              "\n",
              "    .colab-df-convert {\n",
              "      background-color: #E8F0FE;\n",
              "      border: none;\n",
              "      border-radius: 50%;\n",
              "      cursor: pointer;\n",
              "      display: none;\n",
              "      fill: #1967D2;\n",
              "      height: 32px;\n",
              "      padding: 0 0 0 0;\n",
              "      width: 32px;\n",
              "    }\n",
              "\n",
              "    .colab-df-convert:hover {\n",
              "      background-color: #E2EBFA;\n",
              "      box-shadow: 0px 1px 2px rgba(60, 64, 67, 0.3), 0px 1px 3px 1px rgba(60, 64, 67, 0.15);\n",
              "      fill: #174EA6;\n",
              "    }\n",
              "\n",
              "    [theme=dark] .colab-df-convert {\n",
              "      background-color: #3B4455;\n",
              "      fill: #D2E3FC;\n",
              "    }\n",
              "\n",
              "    [theme=dark] .colab-df-convert:hover {\n",
              "      background-color: #434B5C;\n",
              "      box-shadow: 0px 1px 3px 1px rgba(0, 0, 0, 0.15);\n",
              "      filter: drop-shadow(0px 1px 2px rgba(0, 0, 0, 0.3));\n",
              "      fill: #FFFFFF;\n",
              "    }\n",
              "  </style>\n",
              "\n",
              "      <script>\n",
              "        const buttonEl =\n",
              "          document.querySelector('#df-88dc5dc5-2b2c-4214-9f07-86a69e4a129c button.colab-df-convert');\n",
              "        buttonEl.style.display =\n",
              "          google.colab.kernel.accessAllowed ? 'block' : 'none';\n",
              "\n",
              "        async function convertToInteractive(key) {\n",
              "          const element = document.querySelector('#df-88dc5dc5-2b2c-4214-9f07-86a69e4a129c');\n",
              "          const dataTable =\n",
              "            await google.colab.kernel.invokeFunction('convertToInteractive',\n",
              "                                                     [key], {});\n",
              "          if (!dataTable) return;\n",
              "\n",
              "          const docLinkHtml = 'Like what you see? Visit the ' +\n",
              "            '<a target=\"_blank\" href=https://colab.research.google.com/notebooks/data_table.ipynb>data table notebook</a>'\n",
              "            + ' to learn more about interactive tables.';\n",
              "          element.innerHTML = '';\n",
              "          dataTable['output_type'] = 'display_data';\n",
              "          await google.colab.output.renderOutput(dataTable, element);\n",
              "          const docLink = document.createElement('div');\n",
              "          docLink.innerHTML = docLinkHtml;\n",
              "          element.appendChild(docLink);\n",
              "        }\n",
              "      </script>\n",
              "    </div>\n",
              "  </div>\n",
              "  "
            ],
            "text/plain": [
              "   access account  account account  account account create  account create  \\\n",
              "0               0                0                       0               0   \n",
              "1               0                0                       0               0   \n",
              "2               0                0                       0               0   \n",
              "3               0                0                       0               0   \n",
              "4               0                0                       0               0   \n",
              "\n",
              "   account create account  account create one  account everything  \\\n",
              "0                       0                   0                   0   \n",
              "1                       0                   0                   0   \n",
              "2                       0                   0                   0   \n",
              "3                       0                   0                   0   \n",
              "4                       0                   0                   0   \n",
              "\n",
              "   account everything google  account google  account google sign  ...  \\\n",
              "0                          0               0                    0  ...   \n",
              "1                          0               0                    0  ...   \n",
              "2                          0               0                    0  ...   \n",
              "3                          0               0                    0  ...   \n",
              "4                          0               0                    0  ...   \n",
              "\n",
              "   webmail get support  webmail login  webmail service  webmail welcome  \\\n",
              "0                    0              0                0                0   \n",
              "1                    0              0                0                0   \n",
              "2                    0              0                0                0   \n",
              "3                    0              0                0                0   \n",
              "4                    0              0                0                0   \n",
              "\n",
              "   webmail welcome easymail  welcome easymail  welcome easymail webmail  \\\n",
              "0                         0                 0                         0   \n",
              "1                         0                 0                         0   \n",
              "2                         0                 0                         0   \n",
              "3                         0                 0                         0   \n",
              "4                         0                 0                         0   \n",
              "\n",
              "   wells fargo  worldwide delivery  worldwide delivery rights  \n",
              "0            0                   0                          0  \n",
              "1            0                   0                          0  \n",
              "2            0                   0                          0  \n",
              "3            0                   0                          0  \n",
              "4            0                   0                          0  \n",
              "\n",
              "[5 rows x 250 columns]"
            ]
          },
          "execution_count": 22,
          "metadata": {},
          "output_type": "execute_result"
        }
      ],
      "source": [
        "from sklearn.feature_extraction.text import CountVectorizer\n",
        "\n",
        "# Define a custom token pattern that matches only alphabetic characters\n",
        "pattern = r'\\b[A-Za-z]+\\b'\n",
        "\n",
        "# Create a CountVectorizer\n",
        "# We keep only bigrams and trigrams\n",
        "# We remove words not withing the [.015, 0.8] frequency\n",
        "count_vectorizer = CountVectorizer(min_df=.015, \n",
        "                                   max_df=0.8, \n",
        "                                   stop_words=stop_words, \n",
        "                                   max_features=max_words, \n",
        "                                   ngram_range=[2, 3],\n",
        "                                   token_pattern=pattern)\n",
        "\n",
        "# Fit the vectorizer to the text data and transform the data\n",
        "X = count_vectorizer.fit_transform(df_features['text_clean'])\n",
        "\n",
        "df_words = pd.DataFrame(data=X.toarray(), columns = count_vectorizer.get_feature_names())\n",
        "\n",
        "df_words.head()"
      ]
    },
    {
      "attachments": {},
      "cell_type": "markdown",
      "metadata": {
        "id": "SrCPhDkC5x9l"
      },
      "source": [
        "We then generate the `DataFrame` object to be used to train our classifier by combining the features extracted and the n-gram vector."
      ]
    },
    {
      "cell_type": "code",
      "execution_count": 23,
      "metadata": {
        "colab": {
          "base_uri": "https://localhost:8080/"
        },
        "id": "50xswPqM5snf",
        "outputId": "8a48573e-acf5-4ff9-9a89-be68ac503ce1"
      },
      "outputs": [
        {
          "name": "stdout",
          "output_type": "stream",
          "text": [
            "The features data frame contains 791 row(s) and 7 column(s).\n",
            "The word vector contains 791 row(s) and 250 column(s).\n",
            "The resulting dataframe contains 791 row(s) and 257 column(s).\n"
          ]
        }
      ],
      "source": [
        "# Reset the index of the two DataFrames\n",
        "df_features.reset_index(drop=True, inplace=True)\n",
        "df_words.reset_index(drop=True, inplace=True)\n",
        "# Concatenate the 2 `DataFrame` to generate the dataset\n",
        "df = pd.concat([df_features, df_words], axis=1)\n",
        "\n",
        "print(f\"The features data frame contains {df_features.shape[0]} row(s) and {df_features.shape[1]} column(s).\")\n",
        "print(f\"The word vector contains {df_words.shape[0]} row(s) and {df_words.shape[1]} column(s).\")\n",
        "print(f\"The resulting dataframe contains {df.shape[0]} row(s) and {df.shape[1]} column(s).\")"
      ]
    },
    {
      "cell_type": "markdown",
      "metadata": {
        "id": "lRQPn44W6Ife"
      },
      "source": [
        "## Model Generation\n",
        "\n",
        "With the `DataFrame` containing all the features generated, we use to generate a model to match the label defined in the `classification` column."
      ]
    },
    {
      "cell_type": "code",
      "execution_count": 24,
      "metadata": {
        "cellView": "form",
        "id": "zYrohLIQ6jzt"
      },
      "outputs": [],
      "source": [
        "#@title Classifier Options\n",
        "sid = 1337 #@param {type:\"integer\"}\n",
        "training_size = 0.85 #@param { type:\"number\" }"
      ]
    },
    {
      "cell_type": "markdown",
      "metadata": {
        "id": "bnrb8Lyl6m2b"
      },
      "source": [
        "To avoid generating the _\"Numba needs NumPy 1.20 or less\"_ exception, we ensure the `numba` package is upgraded before doing anything else."
      ]
    },
    {
      "cell_type": "code",
      "execution_count": 25,
      "metadata": {
        "id": "8yYj2s576uSw"
      },
      "outputs": [],
      "source": [
        "%%capture\n",
        "!pip install numba --upgrade"
      ]
    },
    {
      "cell_type": "markdown",
      "metadata": {
        "id": "WvjShA8v7kW5"
      },
      "source": [
        "### Create the Classifier"
      ]
    },
    {
      "attachments": {},
      "cell_type": "markdown",
      "metadata": {
        "id": "EUS5x1bb6yUJ"
      },
      "source": [
        "We can then generate our classifier object using the following options:\n",
        "* `transformation`.\n",
        "* `normalize`.\n",
        "* `fix_imbalance`. Since we have more sites labeled as malicious, we ask `pycaret` to consider potential sample imbalances.\n",
        "* `remove_perfect_collinearity`."
      ]
    },
    {
      "cell_type": "code",
      "execution_count": 26,
      "metadata": {
        "colab": {
          "base_uri": "https://localhost:8080/",
          "height": 1000,
          "referenced_widgets": [
            "5fdca9c1472049c8aeecca21cb20983a",
            "0c8e1b50b0b846418a387869cbff957c",
            "13863780972d42e59fda2f731195f778",
            "b8a4d54e23b34cb8b1115eb4f9594626",
            "104e7bdfc6794130897c9e1752060125",
            "e7e664d2e63f489992b40cc38372d94b"
          ]
        },
        "id": "GgPG2W3_62fv",
        "outputId": "3da93db0-581d-469b-d364-a084494d62c4"
      },
      "outputs": [
        {
          "data": {
            "text/html": [
              "\n",
              "  <div id=\"df-ce58beb2-cf0b-4e32-8fdb-892f97ac7285\">\n",
              "    <div class=\"colab-df-container\">\n",
              "      <div>\n",
              "<style scoped>\n",
              "    .dataframe tbody tr th:only-of-type {\n",
              "        vertical-align: middle;\n",
              "    }\n",
              "\n",
              "    .dataframe tbody tr th {\n",
              "        vertical-align: top;\n",
              "    }\n",
              "\n",
              "    .dataframe thead th {\n",
              "        text-align: right;\n",
              "    }\n",
              "</style>\n",
              "<table border=\"1\" class=\"dataframe\">\n",
              "  <thead>\n",
              "    <tr style=\"text-align: right;\">\n",
              "      <th></th>\n",
              "      <th>Description</th>\n",
              "      <th>Value</th>\n",
              "    </tr>\n",
              "  </thead>\n",
              "  <tbody>\n",
              "    <tr>\n",
              "      <th>0</th>\n",
              "      <td>session_id</td>\n",
              "      <td>1337</td>\n",
              "    </tr>\n",
              "    <tr>\n",
              "      <th>1</th>\n",
              "      <td>Target</td>\n",
              "      <td>classification</td>\n",
              "    </tr>\n",
              "    <tr>\n",
              "      <th>2</th>\n",
              "      <td>Target Type</td>\n",
              "      <td>Binary</td>\n",
              "    </tr>\n",
              "    <tr>\n",
              "      <th>3</th>\n",
              "      <td>Label Encoded</td>\n",
              "      <td>benign: 0, malicious: 1</td>\n",
              "    </tr>\n",
              "    <tr>\n",
              "      <th>4</th>\n",
              "      <td>Original Data</td>\n",
              "      <td>(791, 257)</td>\n",
              "    </tr>\n",
              "    <tr>\n",
              "      <th>5</th>\n",
              "      <td>Missing Values</td>\n",
              "      <td>False</td>\n",
              "    </tr>\n",
              "    <tr>\n",
              "      <th>6</th>\n",
              "      <td>Numeric Features</td>\n",
              "      <td>1</td>\n",
              "    </tr>\n",
              "    <tr>\n",
              "      <th>7</th>\n",
              "      <td>Categorical Features</td>\n",
              "      <td>255</td>\n",
              "    </tr>\n",
              "    <tr>\n",
              "      <th>8</th>\n",
              "      <td>Ordinal Features</td>\n",
              "      <td>False</td>\n",
              "    </tr>\n",
              "    <tr>\n",
              "      <th>9</th>\n",
              "      <td>High Cardinality Features</td>\n",
              "      <td>False</td>\n",
              "    </tr>\n",
              "    <tr>\n",
              "      <th>10</th>\n",
              "      <td>High Cardinality Method</td>\n",
              "      <td>None</td>\n",
              "    </tr>\n",
              "    <tr>\n",
              "      <th>11</th>\n",
              "      <td>Transformed Train Set</td>\n",
              "      <td>(672, 571)</td>\n",
              "    </tr>\n",
              "    <tr>\n",
              "      <th>12</th>\n",
              "      <td>Transformed Test Set</td>\n",
              "      <td>(119, 571)</td>\n",
              "    </tr>\n",
              "    <tr>\n",
              "      <th>13</th>\n",
              "      <td>Shuffle Train-Test</td>\n",
              "      <td>True</td>\n",
              "    </tr>\n",
              "    <tr>\n",
              "      <th>14</th>\n",
              "      <td>Stratify Train-Test</td>\n",
              "      <td>False</td>\n",
              "    </tr>\n",
              "    <tr>\n",
              "      <th>15</th>\n",
              "      <td>Fold Generator</td>\n",
              "      <td>StratifiedKFold</td>\n",
              "    </tr>\n",
              "    <tr>\n",
              "      <th>16</th>\n",
              "      <td>Fold Number</td>\n",
              "      <td>10</td>\n",
              "    </tr>\n",
              "    <tr>\n",
              "      <th>17</th>\n",
              "      <td>CPU Jobs</td>\n",
              "      <td>-1</td>\n",
              "    </tr>\n",
              "    <tr>\n",
              "      <th>18</th>\n",
              "      <td>Use GPU</td>\n",
              "      <td>False</td>\n",
              "    </tr>\n",
              "    <tr>\n",
              "      <th>19</th>\n",
              "      <td>Log Experiment</td>\n",
              "      <td>False</td>\n",
              "    </tr>\n",
              "    <tr>\n",
              "      <th>20</th>\n",
              "      <td>Experiment Name</td>\n",
              "      <td>clf-default-name</td>\n",
              "    </tr>\n",
              "    <tr>\n",
              "      <th>21</th>\n",
              "      <td>USI</td>\n",
              "      <td>c877</td>\n",
              "    </tr>\n",
              "    <tr>\n",
              "      <th>22</th>\n",
              "      <td>Imputation Type</td>\n",
              "      <td>simple</td>\n",
              "    </tr>\n",
              "    <tr>\n",
              "      <th>23</th>\n",
              "      <td>Iterative Imputation Iteration</td>\n",
              "      <td>None</td>\n",
              "    </tr>\n",
              "    <tr>\n",
              "      <th>24</th>\n",
              "      <td>Numeric Imputer</td>\n",
              "      <td>mean</td>\n",
              "    </tr>\n",
              "    <tr>\n",
              "      <th>25</th>\n",
              "      <td>Iterative Imputation Numeric Model</td>\n",
              "      <td>None</td>\n",
              "    </tr>\n",
              "    <tr>\n",
              "      <th>26</th>\n",
              "      <td>Categorical Imputer</td>\n",
              "      <td>constant</td>\n",
              "    </tr>\n",
              "    <tr>\n",
              "      <th>27</th>\n",
              "      <td>Iterative Imputation Categorical Model</td>\n",
              "      <td>None</td>\n",
              "    </tr>\n",
              "    <tr>\n",
              "      <th>28</th>\n",
              "      <td>Unknown Categoricals Handling</td>\n",
              "      <td>least_frequent</td>\n",
              "    </tr>\n",
              "    <tr>\n",
              "      <th>29</th>\n",
              "      <td>Normalize</td>\n",
              "      <td>True</td>\n",
              "    </tr>\n",
              "    <tr>\n",
              "      <th>30</th>\n",
              "      <td>Normalize Method</td>\n",
              "      <td>zscore</td>\n",
              "    </tr>\n",
              "    <tr>\n",
              "      <th>31</th>\n",
              "      <td>Transformation</td>\n",
              "      <td>True</td>\n",
              "    </tr>\n",
              "    <tr>\n",
              "      <th>32</th>\n",
              "      <td>Transformation Method</td>\n",
              "      <td>yeo-johnson</td>\n",
              "    </tr>\n",
              "    <tr>\n",
              "      <th>33</th>\n",
              "      <td>PCA</td>\n",
              "      <td>False</td>\n",
              "    </tr>\n",
              "    <tr>\n",
              "      <th>34</th>\n",
              "      <td>PCA Method</td>\n",
              "      <td>None</td>\n",
              "    </tr>\n",
              "    <tr>\n",
              "      <th>35</th>\n",
              "      <td>PCA Components</td>\n",
              "      <td>None</td>\n",
              "    </tr>\n",
              "    <tr>\n",
              "      <th>36</th>\n",
              "      <td>Ignore Low Variance</td>\n",
              "      <td>False</td>\n",
              "    </tr>\n",
              "    <tr>\n",
              "      <th>37</th>\n",
              "      <td>Combine Rare Levels</td>\n",
              "      <td>False</td>\n",
              "    </tr>\n",
              "    <tr>\n",
              "      <th>38</th>\n",
              "      <td>Rare Level Threshold</td>\n",
              "      <td>None</td>\n",
              "    </tr>\n",
              "    <tr>\n",
              "      <th>39</th>\n",
              "      <td>Numeric Binning</td>\n",
              "      <td>False</td>\n",
              "    </tr>\n",
              "    <tr>\n",
              "      <th>40</th>\n",
              "      <td>Remove Outliers</td>\n",
              "      <td>False</td>\n",
              "    </tr>\n",
              "    <tr>\n",
              "      <th>41</th>\n",
              "      <td>Outliers Threshold</td>\n",
              "      <td>None</td>\n",
              "    </tr>\n",
              "    <tr>\n",
              "      <th>42</th>\n",
              "      <td>Remove Multicollinearity</td>\n",
              "      <td>False</td>\n",
              "    </tr>\n",
              "    <tr>\n",
              "      <th>43</th>\n",
              "      <td>Multicollinearity Threshold</td>\n",
              "      <td>None</td>\n",
              "    </tr>\n",
              "    <tr>\n",
              "      <th>44</th>\n",
              "      <td>Remove Perfect Collinearity</td>\n",
              "      <td>True</td>\n",
              "    </tr>\n",
              "    <tr>\n",
              "      <th>45</th>\n",
              "      <td>Clustering</td>\n",
              "      <td>False</td>\n",
              "    </tr>\n",
              "    <tr>\n",
              "      <th>46</th>\n",
              "      <td>Clustering Iteration</td>\n",
              "      <td>None</td>\n",
              "    </tr>\n",
              "    <tr>\n",
              "      <th>47</th>\n",
              "      <td>Polynomial Features</td>\n",
              "      <td>False</td>\n",
              "    </tr>\n",
              "    <tr>\n",
              "      <th>48</th>\n",
              "      <td>Polynomial Degree</td>\n",
              "      <td>None</td>\n",
              "    </tr>\n",
              "    <tr>\n",
              "      <th>49</th>\n",
              "      <td>Trignometry Features</td>\n",
              "      <td>False</td>\n",
              "    </tr>\n",
              "    <tr>\n",
              "      <th>50</th>\n",
              "      <td>Polynomial Threshold</td>\n",
              "      <td>None</td>\n",
              "    </tr>\n",
              "    <tr>\n",
              "      <th>51</th>\n",
              "      <td>Group Features</td>\n",
              "      <td>False</td>\n",
              "    </tr>\n",
              "    <tr>\n",
              "      <th>52</th>\n",
              "      <td>Feature Selection</td>\n",
              "      <td>False</td>\n",
              "    </tr>\n",
              "    <tr>\n",
              "      <th>53</th>\n",
              "      <td>Feature Selection Method</td>\n",
              "      <td>classic</td>\n",
              "    </tr>\n",
              "    <tr>\n",
              "      <th>54</th>\n",
              "      <td>Features Selection Threshold</td>\n",
              "      <td>None</td>\n",
              "    </tr>\n",
              "    <tr>\n",
              "      <th>55</th>\n",
              "      <td>Feature Interaction</td>\n",
              "      <td>False</td>\n",
              "    </tr>\n",
              "    <tr>\n",
              "      <th>56</th>\n",
              "      <td>Feature Ratio</td>\n",
              "      <td>False</td>\n",
              "    </tr>\n",
              "    <tr>\n",
              "      <th>57</th>\n",
              "      <td>Interaction Threshold</td>\n",
              "      <td>None</td>\n",
              "    </tr>\n",
              "    <tr>\n",
              "      <th>58</th>\n",
              "      <td>Fix Imbalance</td>\n",
              "      <td>True</td>\n",
              "    </tr>\n",
              "    <tr>\n",
              "      <th>59</th>\n",
              "      <td>Fix Imbalance Method</td>\n",
              "      <td>SMOTE</td>\n",
              "    </tr>\n",
              "  </tbody>\n",
              "</table>\n",
              "</div>\n",
              "      <button class=\"colab-df-convert\" onclick=\"convertToInteractive('df-ce58beb2-cf0b-4e32-8fdb-892f97ac7285')\"\n",
              "              title=\"Convert this dataframe to an interactive table.\"\n",
              "              style=\"display:none;\">\n",
              "        \n",
              "  <svg xmlns=\"http://www.w3.org/2000/svg\" height=\"24px\"viewBox=\"0 0 24 24\"\n",
              "       width=\"24px\">\n",
              "    <path d=\"M0 0h24v24H0V0z\" fill=\"none\"/>\n",
              "    <path d=\"M18.56 5.44l.94 2.06.94-2.06 2.06-.94-2.06-.94-.94-2.06-.94 2.06-2.06.94zm-11 1L8.5 8.5l.94-2.06 2.06-.94-2.06-.94L8.5 2.5l-.94 2.06-2.06.94zm10 10l.94 2.06.94-2.06 2.06-.94-2.06-.94-.94-2.06-.94 2.06-2.06.94z\"/><path d=\"M17.41 7.96l-1.37-1.37c-.4-.4-.92-.59-1.43-.59-.52 0-1.04.2-1.43.59L10.3 9.45l-7.72 7.72c-.78.78-.78 2.05 0 2.83L4 21.41c.39.39.9.59 1.41.59.51 0 1.02-.2 1.41-.59l7.78-7.78 2.81-2.81c.8-.78.8-2.07 0-2.86zM5.41 20L4 18.59l7.72-7.72 1.47 1.35L5.41 20z\"/>\n",
              "  </svg>\n",
              "      </button>\n",
              "      \n",
              "  <style>\n",
              "    .colab-df-container {\n",
              "      display:flex;\n",
              "      flex-wrap:wrap;\n",
              "      gap: 12px;\n",
              "    }\n",
              "\n",
              "    .colab-df-convert {\n",
              "      background-color: #E8F0FE;\n",
              "      border: none;\n",
              "      border-radius: 50%;\n",
              "      cursor: pointer;\n",
              "      display: none;\n",
              "      fill: #1967D2;\n",
              "      height: 32px;\n",
              "      padding: 0 0 0 0;\n",
              "      width: 32px;\n",
              "    }\n",
              "\n",
              "    .colab-df-convert:hover {\n",
              "      background-color: #E2EBFA;\n",
              "      box-shadow: 0px 1px 2px rgba(60, 64, 67, 0.3), 0px 1px 3px 1px rgba(60, 64, 67, 0.15);\n",
              "      fill: #174EA6;\n",
              "    }\n",
              "\n",
              "    [theme=dark] .colab-df-convert {\n",
              "      background-color: #3B4455;\n",
              "      fill: #D2E3FC;\n",
              "    }\n",
              "\n",
              "    [theme=dark] .colab-df-convert:hover {\n",
              "      background-color: #434B5C;\n",
              "      box-shadow: 0px 1px 3px 1px rgba(0, 0, 0, 0.15);\n",
              "      filter: drop-shadow(0px 1px 2px rgba(0, 0, 0, 0.3));\n",
              "      fill: #FFFFFF;\n",
              "    }\n",
              "  </style>\n",
              "\n",
              "      <script>\n",
              "        const buttonEl =\n",
              "          document.querySelector('#df-ce58beb2-cf0b-4e32-8fdb-892f97ac7285 button.colab-df-convert');\n",
              "        buttonEl.style.display =\n",
              "          google.colab.kernel.accessAllowed ? 'block' : 'none';\n",
              "\n",
              "        async function convertToInteractive(key) {\n",
              "          const element = document.querySelector('#df-ce58beb2-cf0b-4e32-8fdb-892f97ac7285');\n",
              "          const dataTable =\n",
              "            await google.colab.kernel.invokeFunction('convertToInteractive',\n",
              "                                                     [key], {});\n",
              "          if (!dataTable) return;\n",
              "\n",
              "          const docLinkHtml = 'Like what you see? Visit the ' +\n",
              "            '<a target=\"_blank\" href=https://colab.research.google.com/notebooks/data_table.ipynb>data table notebook</a>'\n",
              "            + ' to learn more about interactive tables.';\n",
              "          element.innerHTML = '';\n",
              "          dataTable['output_type'] = 'display_data';\n",
              "          await google.colab.output.renderOutput(dataTable, element);\n",
              "          const docLink = document.createElement('div');\n",
              "          docLink.innerHTML = docLinkHtml;\n",
              "          element.appendChild(docLink);\n",
              "        }\n",
              "      </script>\n",
              "    </div>\n",
              "  </div>\n",
              "  "
            ],
            "text/plain": [
              "                               Description                    Value\n",
              "0                               session_id                     1337\n",
              "1                                   Target           classification\n",
              "2                              Target Type                   Binary\n",
              "3                            Label Encoded  benign: 0, malicious: 1\n",
              "4                            Original Data               (791, 257)\n",
              "5                           Missing Values                    False\n",
              "6                         Numeric Features                        1\n",
              "7                     Categorical Features                      255\n",
              "8                         Ordinal Features                    False\n",
              "9                High Cardinality Features                    False\n",
              "10                 High Cardinality Method                     None\n",
              "11                   Transformed Train Set               (672, 571)\n",
              "12                    Transformed Test Set               (119, 571)\n",
              "13                      Shuffle Train-Test                     True\n",
              "14                     Stratify Train-Test                    False\n",
              "15                          Fold Generator          StratifiedKFold\n",
              "16                             Fold Number                       10\n",
              "17                                CPU Jobs                       -1\n",
              "18                                 Use GPU                    False\n",
              "19                          Log Experiment                    False\n",
              "20                         Experiment Name         clf-default-name\n",
              "21                                     USI                     c877\n",
              "22                         Imputation Type                   simple\n",
              "23          Iterative Imputation Iteration                     None\n",
              "24                         Numeric Imputer                     mean\n",
              "25      Iterative Imputation Numeric Model                     None\n",
              "26                     Categorical Imputer                 constant\n",
              "27  Iterative Imputation Categorical Model                     None\n",
              "28           Unknown Categoricals Handling           least_frequent\n",
              "29                               Normalize                     True\n",
              "30                        Normalize Method                   zscore\n",
              "31                          Transformation                     True\n",
              "32                   Transformation Method              yeo-johnson\n",
              "33                                     PCA                    False\n",
              "34                              PCA Method                     None\n",
              "35                          PCA Components                     None\n",
              "36                     Ignore Low Variance                    False\n",
              "37                     Combine Rare Levels                    False\n",
              "38                    Rare Level Threshold                     None\n",
              "39                         Numeric Binning                    False\n",
              "40                         Remove Outliers                    False\n",
              "41                      Outliers Threshold                     None\n",
              "42                Remove Multicollinearity                    False\n",
              "43             Multicollinearity Threshold                     None\n",
              "44             Remove Perfect Collinearity                     True\n",
              "45                              Clustering                    False\n",
              "46                    Clustering Iteration                     None\n",
              "47                     Polynomial Features                    False\n",
              "48                       Polynomial Degree                     None\n",
              "49                    Trignometry Features                    False\n",
              "50                    Polynomial Threshold                     None\n",
              "51                          Group Features                    False\n",
              "52                       Feature Selection                    False\n",
              "53                Feature Selection Method                  classic\n",
              "54            Features Selection Threshold                     None\n",
              "55                     Feature Interaction                    False\n",
              "56                           Feature Ratio                    False\n",
              "57                   Interaction Threshold                     None\n",
              "58                           Fix Imbalance                     True\n",
              "59                    Fix Imbalance Method                    SMOTE"
            ]
          },
          "metadata": {},
          "output_type": "display_data"
        },
        {
          "name": "stderr",
          "output_type": "stream",
          "text": [
            "INFO:logs:create_model_container: 0\n",
            "INFO:logs:master_model_container: 0\n",
            "INFO:logs:display_container: 1\n",
            "INFO:logs:Pipeline(memory=None,\n",
            "         steps=[('dtypes',\n",
            "                 DataTypes_Auto_infer(categorical_features=[],\n",
            "                                      display_types=True, features_todrop=[],\n",
            "                                      id_columns=[],\n",
            "                                      ml_usecase='classification',\n",
            "                                      numerical_features=[],\n",
            "                                      target='classification',\n",
            "                                      time_features=[])),\n",
            "                ('imputer',\n",
            "                 Simple_Imputer(categorical_strategy='not_available',\n",
            "                                fill_value_categorical=None,\n",
            "                                fill_value_numerical=None,\n",
            "                                numer...\n",
            "                                                  target='classification')),\n",
            "                ('binn', 'passthrough'), ('rem_outliers', 'passthrough'),\n",
            "                ('cluster_all', 'passthrough'),\n",
            "                ('dummy', Dummify(target='classification')),\n",
            "                ('fix_perfect', Remove_100(target='classification')),\n",
            "                ('clean_names', Clean_Colum_Names()),\n",
            "                ('feature_select', 'passthrough'), ('fix_multi', 'passthrough'),\n",
            "                ('dfs', 'passthrough'), ('pca', 'passthrough')],\n",
            "         verbose=False)\n",
            "INFO:logs:setup() succesfully completed......................................\n"
          ]
        }
      ],
      "source": [
        "from pycaret.classification import *\n",
        "\n",
        "# Create a PyCaret Classification experiment\n",
        "clf = setup(data=df,\n",
        "            session_id=sid,\n",
        "            transformation=True, \n",
        "            normalize=True,\n",
        "            fix_imbalance=True,\n",
        "            remove_perfect_collinearity=True,\n",
        "            train_size=training_size,\n",
        "            target=\"classification\")"
      ]
    },
    {
      "cell_type": "markdown",
      "metadata": {
        "id": "IsiOCi1v7tGD"
      },
      "source": [
        "### Select Model"
      ]
    },
    {
      "cell_type": "code",
      "execution_count": 27,
      "metadata": {
        "colab": {
          "base_uri": "https://localhost:8080/",
          "height": 728,
          "referenced_widgets": [
            "72471aaac18f410886d94ccf54ae736f",
            "1a4cde6f30764eb2b4e2b26c7300cb0f",
            "45ed0e998cf942b69e2996297cf2c38e"
          ]
        },
        "id": "iBb4kEM77vcZ",
        "outputId": "d8e47fe8-dc83-4552-cb1e-1549933b67ed"
      },
      "outputs": [
        {
          "data": {
            "text/html": [
              "\n",
              "  <div id=\"df-e414faba-0061-4790-a7ea-42a09ad3d89f\">\n",
              "    <div class=\"colab-df-container\">\n",
              "      <div>\n",
              "<style scoped>\n",
              "    .dataframe tbody tr th:only-of-type {\n",
              "        vertical-align: middle;\n",
              "    }\n",
              "\n",
              "    .dataframe tbody tr th {\n",
              "        vertical-align: top;\n",
              "    }\n",
              "\n",
              "    .dataframe thead th {\n",
              "        text-align: right;\n",
              "    }\n",
              "</style>\n",
              "<table border=\"1\" class=\"dataframe\">\n",
              "  <thead>\n",
              "    <tr style=\"text-align: right;\">\n",
              "      <th></th>\n",
              "      <th>Model</th>\n",
              "      <th>Accuracy</th>\n",
              "      <th>AUC</th>\n",
              "      <th>Recall</th>\n",
              "      <th>Prec.</th>\n",
              "      <th>F1</th>\n",
              "      <th>Kappa</th>\n",
              "      <th>MCC</th>\n",
              "      <th>TT (Sec)</th>\n",
              "    </tr>\n",
              "  </thead>\n",
              "  <tbody>\n",
              "    <tr>\n",
              "      <th>rf</th>\n",
              "      <td>Random Forest Classifier</td>\n",
              "      <td>0.9554</td>\n",
              "      <td>0.9908</td>\n",
              "      <td>0.9629</td>\n",
              "      <td>0.9721</td>\n",
              "      <td>0.9673</td>\n",
              "      <td>0.8971</td>\n",
              "      <td>0.8982</td>\n",
              "      <td>0.634</td>\n",
              "    </tr>\n",
              "    <tr>\n",
              "      <th>et</th>\n",
              "      <td>Extra Trees Classifier</td>\n",
              "      <td>0.9539</td>\n",
              "      <td>0.9882</td>\n",
              "      <td>0.9651</td>\n",
              "      <td>0.9678</td>\n",
              "      <td>0.9663</td>\n",
              "      <td>0.8932</td>\n",
              "      <td>0.8940</td>\n",
              "      <td>0.884</td>\n",
              "    </tr>\n",
              "    <tr>\n",
              "      <th>ada</th>\n",
              "      <td>Ada Boost Classifier</td>\n",
              "      <td>0.9494</td>\n",
              "      <td>0.9799</td>\n",
              "      <td>0.9586</td>\n",
              "      <td>0.9675</td>\n",
              "      <td>0.9626</td>\n",
              "      <td>0.8840</td>\n",
              "      <td>0.8856</td>\n",
              "      <td>0.331</td>\n",
              "    </tr>\n",
              "    <tr>\n",
              "      <th>dt</th>\n",
              "      <td>Decision Tree Classifier</td>\n",
              "      <td>0.9464</td>\n",
              "      <td>0.9431</td>\n",
              "      <td>0.9521</td>\n",
              "      <td>0.9695</td>\n",
              "      <td>0.9602</td>\n",
              "      <td>0.8782</td>\n",
              "      <td>0.8805</td>\n",
              "      <td>0.144</td>\n",
              "    </tr>\n",
              "    <tr>\n",
              "      <th>lightgbm</th>\n",
              "      <td>Light Gradient Boosting Machine</td>\n",
              "      <td>0.9464</td>\n",
              "      <td>0.9753</td>\n",
              "      <td>0.9586</td>\n",
              "      <td>0.9638</td>\n",
              "      <td>0.9607</td>\n",
              "      <td>0.8767</td>\n",
              "      <td>0.8790</td>\n",
              "      <td>0.429</td>\n",
              "    </tr>\n",
              "    <tr>\n",
              "      <th>xgboost</th>\n",
              "      <td>Extreme Gradient Boosting</td>\n",
              "      <td>0.9450</td>\n",
              "      <td>0.9719</td>\n",
              "      <td>0.9520</td>\n",
              "      <td>0.9677</td>\n",
              "      <td>0.9592</td>\n",
              "      <td>0.8745</td>\n",
              "      <td>0.8771</td>\n",
              "      <td>3.113</td>\n",
              "    </tr>\n",
              "    <tr>\n",
              "      <th>ridge</th>\n",
              "      <td>Ridge Classifier</td>\n",
              "      <td>0.9390</td>\n",
              "      <td>0.0000</td>\n",
              "      <td>0.9477</td>\n",
              "      <td>0.9630</td>\n",
              "      <td>0.9550</td>\n",
              "      <td>0.8602</td>\n",
              "      <td>0.8618</td>\n",
              "      <td>0.147</td>\n",
              "    </tr>\n",
              "    <tr>\n",
              "      <th>svm</th>\n",
              "      <td>SVM - Linear Kernel</td>\n",
              "      <td>0.9375</td>\n",
              "      <td>0.0000</td>\n",
              "      <td>0.9456</td>\n",
              "      <td>0.9637</td>\n",
              "      <td>0.9540</td>\n",
              "      <td>0.8562</td>\n",
              "      <td>0.8588</td>\n",
              "      <td>0.159</td>\n",
              "    </tr>\n",
              "    <tr>\n",
              "      <th>gbc</th>\n",
              "      <td>Gradient Boosting Classifier</td>\n",
              "      <td>0.9346</td>\n",
              "      <td>0.9748</td>\n",
              "      <td>0.9390</td>\n",
              "      <td>0.9654</td>\n",
              "      <td>0.9514</td>\n",
              "      <td>0.8510</td>\n",
              "      <td>0.8540</td>\n",
              "      <td>0.605</td>\n",
              "    </tr>\n",
              "    <tr>\n",
              "      <th>lr</th>\n",
              "      <td>Logistic Regression</td>\n",
              "      <td>0.9315</td>\n",
              "      <td>0.9802</td>\n",
              "      <td>0.9347</td>\n",
              "      <td>0.9645</td>\n",
              "      <td>0.9491</td>\n",
              "      <td>0.8445</td>\n",
              "      <td>0.8462</td>\n",
              "      <td>0.950</td>\n",
              "    </tr>\n",
              "    <tr>\n",
              "      <th>knn</th>\n",
              "      <td>K Neighbors Classifier</td>\n",
              "      <td>0.9063</td>\n",
              "      <td>0.9625</td>\n",
              "      <td>0.8713</td>\n",
              "      <td>0.9899</td>\n",
              "      <td>0.9259</td>\n",
              "      <td>0.8000</td>\n",
              "      <td>0.8137</td>\n",
              "      <td>0.351</td>\n",
              "    </tr>\n",
              "    <tr>\n",
              "      <th>nb</th>\n",
              "      <td>Naive Bayes</td>\n",
              "      <td>0.8989</td>\n",
              "      <td>0.9210</td>\n",
              "      <td>0.8604</td>\n",
              "      <td>0.9903</td>\n",
              "      <td>0.9194</td>\n",
              "      <td>0.7858</td>\n",
              "      <td>0.8024</td>\n",
              "      <td>0.139</td>\n",
              "    </tr>\n",
              "    <tr>\n",
              "      <th>lda</th>\n",
              "      <td>Linear Discriminant Analysis</td>\n",
              "      <td>0.7782</td>\n",
              "      <td>0.8206</td>\n",
              "      <td>0.7032</td>\n",
              "      <td>0.9629</td>\n",
              "      <td>0.8072</td>\n",
              "      <td>0.5630</td>\n",
              "      <td>0.6067</td>\n",
              "      <td>0.618</td>\n",
              "    </tr>\n",
              "    <tr>\n",
              "      <th>qda</th>\n",
              "      <td>Quadratic Discriminant Analysis</td>\n",
              "      <td>0.5713</td>\n",
              "      <td>0.6861</td>\n",
              "      <td>0.3721</td>\n",
              "      <td>1.0000</td>\n",
              "      <td>0.5329</td>\n",
              "      <td>0.2772</td>\n",
              "      <td>0.3974</td>\n",
              "      <td>0.469</td>\n",
              "    </tr>\n",
              "    <tr>\n",
              "      <th>dummy</th>\n",
              "      <td>Dummy Classifier</td>\n",
              "      <td>0.3169</td>\n",
              "      <td>0.5000</td>\n",
              "      <td>0.0000</td>\n",
              "      <td>0.0000</td>\n",
              "      <td>0.0000</td>\n",
              "      <td>0.0000</td>\n",
              "      <td>0.0000</td>\n",
              "      <td>0.122</td>\n",
              "    </tr>\n",
              "  </tbody>\n",
              "</table>\n",
              "</div>\n",
              "      <button class=\"colab-df-convert\" onclick=\"convertToInteractive('df-e414faba-0061-4790-a7ea-42a09ad3d89f')\"\n",
              "              title=\"Convert this dataframe to an interactive table.\"\n",
              "              style=\"display:none;\">\n",
              "        \n",
              "  <svg xmlns=\"http://www.w3.org/2000/svg\" height=\"24px\"viewBox=\"0 0 24 24\"\n",
              "       width=\"24px\">\n",
              "    <path d=\"M0 0h24v24H0V0z\" fill=\"none\"/>\n",
              "    <path d=\"M18.56 5.44l.94 2.06.94-2.06 2.06-.94-2.06-.94-.94-2.06-.94 2.06-2.06.94zm-11 1L8.5 8.5l.94-2.06 2.06-.94-2.06-.94L8.5 2.5l-.94 2.06-2.06.94zm10 10l.94 2.06.94-2.06 2.06-.94-2.06-.94-.94-2.06-.94 2.06-2.06.94z\"/><path d=\"M17.41 7.96l-1.37-1.37c-.4-.4-.92-.59-1.43-.59-.52 0-1.04.2-1.43.59L10.3 9.45l-7.72 7.72c-.78.78-.78 2.05 0 2.83L4 21.41c.39.39.9.59 1.41.59.51 0 1.02-.2 1.41-.59l7.78-7.78 2.81-2.81c.8-.78.8-2.07 0-2.86zM5.41 20L4 18.59l7.72-7.72 1.47 1.35L5.41 20z\"/>\n",
              "  </svg>\n",
              "      </button>\n",
              "      \n",
              "  <style>\n",
              "    .colab-df-container {\n",
              "      display:flex;\n",
              "      flex-wrap:wrap;\n",
              "      gap: 12px;\n",
              "    }\n",
              "\n",
              "    .colab-df-convert {\n",
              "      background-color: #E8F0FE;\n",
              "      border: none;\n",
              "      border-radius: 50%;\n",
              "      cursor: pointer;\n",
              "      display: none;\n",
              "      fill: #1967D2;\n",
              "      height: 32px;\n",
              "      padding: 0 0 0 0;\n",
              "      width: 32px;\n",
              "    }\n",
              "\n",
              "    .colab-df-convert:hover {\n",
              "      background-color: #E2EBFA;\n",
              "      box-shadow: 0px 1px 2px rgba(60, 64, 67, 0.3), 0px 1px 3px 1px rgba(60, 64, 67, 0.15);\n",
              "      fill: #174EA6;\n",
              "    }\n",
              "\n",
              "    [theme=dark] .colab-df-convert {\n",
              "      background-color: #3B4455;\n",
              "      fill: #D2E3FC;\n",
              "    }\n",
              "\n",
              "    [theme=dark] .colab-df-convert:hover {\n",
              "      background-color: #434B5C;\n",
              "      box-shadow: 0px 1px 3px 1px rgba(0, 0, 0, 0.15);\n",
              "      filter: drop-shadow(0px 1px 2px rgba(0, 0, 0, 0.3));\n",
              "      fill: #FFFFFF;\n",
              "    }\n",
              "  </style>\n",
              "\n",
              "      <script>\n",
              "        const buttonEl =\n",
              "          document.querySelector('#df-e414faba-0061-4790-a7ea-42a09ad3d89f button.colab-df-convert');\n",
              "        buttonEl.style.display =\n",
              "          google.colab.kernel.accessAllowed ? 'block' : 'none';\n",
              "\n",
              "        async function convertToInteractive(key) {\n",
              "          const element = document.querySelector('#df-e414faba-0061-4790-a7ea-42a09ad3d89f');\n",
              "          const dataTable =\n",
              "            await google.colab.kernel.invokeFunction('convertToInteractive',\n",
              "                                                     [key], {});\n",
              "          if (!dataTable) return;\n",
              "\n",
              "          const docLinkHtml = 'Like what you see? Visit the ' +\n",
              "            '<a target=\"_blank\" href=https://colab.research.google.com/notebooks/data_table.ipynb>data table notebook</a>'\n",
              "            + ' to learn more about interactive tables.';\n",
              "          element.innerHTML = '';\n",
              "          dataTable['output_type'] = 'display_data';\n",
              "          await google.colab.output.renderOutput(dataTable, element);\n",
              "          const docLink = document.createElement('div');\n",
              "          docLink.innerHTML = docLinkHtml;\n",
              "          element.appendChild(docLink);\n",
              "        }\n",
              "      </script>\n",
              "    </div>\n",
              "  </div>\n",
              "  "
            ],
            "text/plain": [
              "                                    Model  Accuracy     AUC  Recall   Prec.  \\\n",
              "rf               Random Forest Classifier    0.9554  0.9908  0.9629  0.9721   \n",
              "et                 Extra Trees Classifier    0.9539  0.9882  0.9651  0.9678   \n",
              "ada                  Ada Boost Classifier    0.9494  0.9799  0.9586  0.9675   \n",
              "dt               Decision Tree Classifier    0.9464  0.9431  0.9521  0.9695   \n",
              "lightgbm  Light Gradient Boosting Machine    0.9464  0.9753  0.9586  0.9638   \n",
              "xgboost         Extreme Gradient Boosting    0.9450  0.9719  0.9520  0.9677   \n",
              "ridge                    Ridge Classifier    0.9390  0.0000  0.9477  0.9630   \n",
              "svm                   SVM - Linear Kernel    0.9375  0.0000  0.9456  0.9637   \n",
              "gbc          Gradient Boosting Classifier    0.9346  0.9748  0.9390  0.9654   \n",
              "lr                    Logistic Regression    0.9315  0.9802  0.9347  0.9645   \n",
              "knn                K Neighbors Classifier    0.9063  0.9625  0.8713  0.9899   \n",
              "nb                            Naive Bayes    0.8989  0.9210  0.8604  0.9903   \n",
              "lda          Linear Discriminant Analysis    0.7782  0.8206  0.7032  0.9629   \n",
              "qda       Quadratic Discriminant Analysis    0.5713  0.6861  0.3721  1.0000   \n",
              "dummy                    Dummy Classifier    0.3169  0.5000  0.0000  0.0000   \n",
              "\n",
              "              F1   Kappa     MCC  TT (Sec)  \n",
              "rf        0.9673  0.8971  0.8982     0.634  \n",
              "et        0.9663  0.8932  0.8940     0.884  \n",
              "ada       0.9626  0.8840  0.8856     0.331  \n",
              "dt        0.9602  0.8782  0.8805     0.144  \n",
              "lightgbm  0.9607  0.8767  0.8790     0.429  \n",
              "xgboost   0.9592  0.8745  0.8771     3.113  \n",
              "ridge     0.9550  0.8602  0.8618     0.147  \n",
              "svm       0.9540  0.8562  0.8588     0.159  \n",
              "gbc       0.9514  0.8510  0.8540     0.605  \n",
              "lr        0.9491  0.8445  0.8462     0.950  \n",
              "knn       0.9259  0.8000  0.8137     0.351  \n",
              "nb        0.9194  0.7858  0.8024     0.139  \n",
              "lda       0.8072  0.5630  0.6067     0.618  \n",
              "qda       0.5329  0.2772  0.3974     0.469  \n",
              "dummy     0.0000  0.0000  0.0000     0.122  "
            ]
          },
          "metadata": {},
          "output_type": "display_data"
        },
        {
          "name": "stderr",
          "output_type": "stream",
          "text": [
            "INFO:logs:create_model_container: 15\n",
            "INFO:logs:master_model_container: 15\n",
            "INFO:logs:display_container: 2\n",
            "INFO:logs:RandomForestClassifier(bootstrap=True, ccp_alpha=0.0, class_weight=None,\n",
            "                       criterion='gini', max_depth=None, max_features='auto',\n",
            "                       max_leaf_nodes=None, max_samples=None,\n",
            "                       min_impurity_decrease=0.0, min_impurity_split=None,\n",
            "                       min_samples_leaf=1, min_samples_split=2,\n",
            "                       min_weight_fraction_leaf=0.0, n_estimators=100,\n",
            "                       n_jobs=-1, oob_score=False, random_state=1337, verbose=0,\n",
            "                       warm_start=False)\n",
            "INFO:logs:compare_models() succesfully completed......................................\n"
          ]
        }
      ],
      "source": [
        "# Compare multiple models and select the best\n",
        "best_model = compare_models()"
      ]
    },
    {
      "attachments": {},
      "cell_type": "markdown",
      "metadata": {},
      "source": [
        "During the comparision, the top 2 classifier identified by `pycaret` are the _rf_ and _et_ classifiers. The _rf_ classifer reached an accuracy of 95.5% and a recall of 96.3% while the _et_ classifier obtain 95.4% accuracy and 96.5% recall. Accuracy is critical when determining whether a site is malicious. A benign website detected as malicious can disrupt business operators while a malicious website identified as benigh could lead to compromise. "
      ]
    },
    {
      "cell_type": "code",
      "execution_count": null,
      "metadata": {},
      "outputs": [],
      "source": [
        "m_rf = create_model(\"rf\")"
      ]
    },
    {
      "cell_type": "code",
      "execution_count": null,
      "metadata": {},
      "outputs": [],
      "source": [
        "m_et = create_model(\"et\")"
      ]
    },
    {
      "attachments": {},
      "cell_type": "markdown",
      "metadata": {
        "id": "dwEXo3w-72AY"
      },
      "source": [
        "### Finalize Model\n",
        "\n",
        "Once the model selected, we fine tune the parameters towards optimizing accuracy."
      ]
    },
    {
      "cell_type": "code",
      "execution_count": null,
      "metadata": {
        "id": "wAviECn073av"
      },
      "outputs": [],
      "source": [
        "# Finalize the best model\n",
        "final_model = finalize_model(tune_model(best_model))"
      ]
    },
    {
      "cell_type": "markdown",
      "metadata": {
        "id": "rEGtupnK8TRW"
      },
      "source": [
        "## Export Models\n",
        "\n",
        "When ready, we can export our models. The code below will create two (2) files:\n",
        "\n",
        "1. CountVectorizer model. The `CountVectorizer` model used to generate the word count vector;\n",
        "1. Classifier model The classifier model."
      ]
    },
    {
      "cell_type": "code",
      "execution_count": null,
      "metadata": {
        "id": "We_0WiU58Z7P"
      },
      "outputs": [],
      "source": [
        "%%capture\n",
        "import os\n",
        "import pickle\n",
        "from datetime import datetime\n",
        "\n",
        "# Generate a file name based on the current date and time\n",
        "now = datetime.now().strftime(\"%Y%m%d-%H%M%S\")\n",
        "\n",
        "vector_file_name = f\"vector-{now}.pkl\"\n",
        "class_file_name = f\"class-{now}\"\n",
        "\n",
        "vector_file_path = os.path.abspath(os.path.join(\".\", vector_file_name))\n",
        "class_file_path = os.path.abspath(os.path.join(\".\", class_file_name))\n",
        "\n",
        "# Save the fitted vectorizer as a pickle file\n",
        "with open(vector_file_name, 'wb') as f:\n",
        "    pickle.dump(count_vectorizer, f)\n",
        "\n",
        "# Save the best model to a file\n",
        "save_model(final_model, class_file_path)\n"
      ]
    },
    {
      "cell_type": "markdown",
      "metadata": {
        "id": "S2bPNZXJ9Put"
      },
      "source": [
        "## Testing\n",
        "\n",
        "This section provides the code required to test the model generated on unseen data bby providing a URL and assess whether its contents are \"benign\" or \"malicious\". You can specify the model files to use below:"
      ]
    },
    {
      "cell_type": "code",
      "execution_count": 33,
      "metadata": {
        "id": "-MlrAhkU9fV1"
      },
      "outputs": [],
      "source": [
        "#@title Models\n",
        "vector_model_file = \"vector-20230314-175624\" #@param {type:\"string\"}\n",
        "class_model_file = \"class-20230314-175624\" #@param {type:\"string\"}"
      ]
    },
    {
      "cell_type": "markdown",
      "metadata": {
        "id": "CJcYeJ8g9s2E"
      },
      "source": [
        "### Requirements\n",
        "\n",
        "The following modules are required:"
      ]
    },
    {
      "cell_type": "code",
      "execution_count": 28,
      "metadata": {
        "id": "YbzmSG9x9v4y"
      },
      "outputs": [],
      "source": [
        "%%capture\n",
        "%pip install langdetect"
      ]
    },
    {
      "cell_type": "markdown",
      "metadata": {
        "id": "p0HINqSb90Qg"
      },
      "source": [
        "### Parsing\n",
        "\n",
        "The code below will parse a webpage and extract the required features for the analysis."
      ]
    },
    {
      "cell_type": "code",
      "execution_count": 29,
      "metadata": {
        "id": "ivVjGSEK96r5"
      },
      "outputs": [],
      "source": [
        "%%capture\n",
        "import os\n",
        "import re\n",
        "import string\n",
        "import pandas as pd\n",
        "from bs4 import BeautifulSoup\n",
        "from nltk.corpus import stopwords\n",
        "from langdetect import detect\n",
        "\n",
        "nltk.download('punkt')\n",
        "nltk.download('stopwords')\n",
        "#\n",
        "# Define a function to check the method attribute\n",
        "def is_post(form):\n",
        "    return form.get('method', '').lower() == 'post'\n",
        "#\n",
        "def remove_non_displayable(text):\n",
        "    printable_chars = set(string.printable)\n",
        "    return ''.join(filter(lambda x: x in printable_chars, text))\n",
        "#\n",
        "def parse_html(html:str) -> dict:\n",
        "      features = {}\n",
        "      soup = BeautifulSoup(html, 'html.parser')\n",
        "      # get the title of the webpage\n",
        "      if soup.title is not None and soup.title.string is not None:\n",
        "          wp_title = remove_non_displayable(soup.title.string.strip().lower())\n",
        "          features[\"title_raw\"] = \" \".join(nltk.word_tokenize(wp_title))\n",
        "      else:\n",
        "          features[\"title_raw\"] = \"\"\n",
        "      # Extract the text content from the HTML\n",
        "      text = remove_non_displayable(soup.get_text())\n",
        "\n",
        "      try:\n",
        "          features[\"is_english\"] = (detect(text) == \"en\")\n",
        "      except:\n",
        "          # If we cannot detect the language, it's probably not useful or\n",
        "          # english, so we'll labelled it as non-english\n",
        "          features[\"is_english\"] = False\n",
        "\n",
        "      # search for a login form\n",
        "      forms = soup.find_all('form', {'method': 'POST'})\n",
        "      forms += soup.find_all('form', {'method': 'post'})\n",
        "      features[\"has_form\"] = len(forms) > 0\n",
        "      features[\"has_login_form\"] = len(soup.find_all(\"input\", {\"type\": \"password\"})) > 0\n",
        "\n",
        "      # Check if JavaScript with base64 strings exists\n",
        "      scripts = soup.find_all('script')\n",
        "      features[\"has_js\"] = (len(scripts) > 0)\n",
        "      features[\"js_include_b64\"] = False\n",
        "      for script in scripts:\n",
        "          if script.has_attr('src'):\n",
        "              # Check if script is loaded from external source\n",
        "              script_content = None\n",
        "          else:\n",
        "              script_content = script.string\n",
        "\n",
        "          if script_content is not None and re.search(\"data:[a-zA-Z0-9+/]+={0,2}\", script_content):\n",
        "              features[\"js_include_b64\"] |= True\n",
        "\n",
        "      # tokenize the text after convertign to lowercase\n",
        "      tokens = nltk.word_tokenize(text.lower().strip())\n",
        "\n",
        "      # remove stop words and punctuation\n",
        "      stop_words = set(stopwords.words('english'))\n",
        "      clean_tokens = [token for token in tokens if token.lower() not in stop_words and token not in string.punctuation]\n",
        "      # Save the number of tokens\n",
        "      features[\"nb_tokens\"] = len(clean_tokens)\n",
        "\n",
        "      # join the cleaned tokens back into a string\n",
        "      features[\"text_clean\"] = ' '.join(clean_tokens)\n",
        "      return features"
      ]
    },
    {
      "cell_type": "code",
      "execution_count": 30,
      "metadata": {
        "cellView": "form",
        "id": "vOArmP2S-FdU"
      },
      "outputs": [],
      "source": [
        "#@title URL\n",
        "url = \"https://google.com\" #@param {type:\"string\"}"
      ]
    },
    {
      "cell_type": "markdown",
      "metadata": {
        "id": "4RcmbCod-JIi"
      },
      "source": [
        "### Evaluate URL\n",
        "\n",
        "Run the code block below to evaluate the URL provided. If the website is accessible, the code will return either \"BENIGN\" or \"MALICIOUS\" based on its contents."
      ]
    },
    {
      "cell_type": "code",
      "execution_count": 35,
      "metadata": {
        "colab": {
          "base_uri": "https://localhost:8080/",
          "height": 235
        },
        "id": "AIhekQ6Y-MHX",
        "outputId": "e7419a44-6a1f-4fae-8123-ebd78ae0c85e"
      },
      "outputs": [
        {
          "ename": "Exception",
          "evalue": "ignored",
          "output_type": "error",
          "traceback": [
            "\u001b[0;31m---------------------------------------------------------------------------\u001b[0m",
            "\u001b[0;31mException\u001b[0m                                 Traceback (most recent call last)",
            "\u001b[0;32m<ipython-input-35-6723921627bd>\u001b[0m in \u001b[0;36m<module>\u001b[0;34m\u001b[0m\n\u001b[1;32m      7\u001b[0m \u001b[0;34m\u001b[0m\u001b[0m\n\u001b[1;32m      8\u001b[0m \u001b[0;32mif\u001b[0m \u001b[0;32mnot\u001b[0m \u001b[0mos\u001b[0m\u001b[0;34m.\u001b[0m\u001b[0mpath\u001b[0m\u001b[0;34m.\u001b[0m\u001b[0misfile\u001b[0m\u001b[0;34m(\u001b[0m\u001b[0;34mf\"{vector_model_file}.pkl\"\u001b[0m\u001b[0;34m)\u001b[0m\u001b[0;34m:\u001b[0m\u001b[0;34m\u001b[0m\u001b[0;34m\u001b[0m\u001b[0m\n\u001b[0;32m----> 9\u001b[0;31m   \u001b[0;32mraise\u001b[0m\u001b[0;34m(\u001b[0m\u001b[0mException\u001b[0m\u001b[0;34m(\u001b[0m\u001b[0;34mf\"[-] File not found: {vector_model_file}.pkl\"\u001b[0m\u001b[0;34m)\u001b[0m\u001b[0;34m)\u001b[0m\u001b[0;34m\u001b[0m\u001b[0;34m\u001b[0m\u001b[0m\n\u001b[0m\u001b[1;32m     10\u001b[0m \u001b[0;32melif\u001b[0m \u001b[0;32mnot\u001b[0m \u001b[0mos\u001b[0m\u001b[0;34m.\u001b[0m\u001b[0mpath\u001b[0m\u001b[0;34m.\u001b[0m\u001b[0misfile\u001b[0m\u001b[0;34m(\u001b[0m\u001b[0;34mf\"{class_model_file}.pkl\"\u001b[0m\u001b[0;34m)\u001b[0m\u001b[0;34m:\u001b[0m\u001b[0;34m\u001b[0m\u001b[0;34m\u001b[0m\u001b[0m\n\u001b[1;32m     11\u001b[0m   \u001b[0;32mraise\u001b[0m\u001b[0;34m(\u001b[0m\u001b[0mException\u001b[0m\u001b[0;34m(\u001b[0m\u001b[0;34mf\"[-] File not found: {class_model_file}.pkl\"\u001b[0m\u001b[0;34m)\u001b[0m\u001b[0;34m)\u001b[0m\u001b[0;34m\u001b[0m\u001b[0;34m\u001b[0m\u001b[0m\n",
            "\u001b[0;31mException\u001b[0m: [-] File not found: vector-20230314-175624.pkl"
          ]
        }
      ],
      "source": [
        "import os\n",
        "import requests\n",
        "import pandas as pd\n",
        "from langdetect import detect\n",
        "from bs4 import BeautifulSoup\n",
        "from pycaret.classification import *\n",
        "\n",
        "if not os.path.isfile(f\"{vector_model_file}.pkl\"):\n",
        "  raise(Exception(f\"[-] File not found: {vector_model_file}.pkl\"))\n",
        "elif not os.path.isfile(f\"{class_model_file}.pkl\"):\n",
        "  raise(Exception(f\"[-] File not found: {class_model_file}.pkl\"))\n",
        "\n",
        "with open(f\"{vector_model_file}.pkl\", 'rb') as f:\n",
        "    count_vectorizer = pickle.load(f)\n",
        "\n",
        "class_model = load_model(class_model_file)\n",
        "\n",
        "response = requests.get(url)\n",
        "if response.status_code == 200:\n",
        "  html = response.text\n",
        "  print(f\"[+] Received {len(html)} byte(s) from '{url}'.\")\n",
        "  f = parse_html(html)\n",
        "  if f[\"is_english\"] is True:\n",
        "    # Generate a `DataFrame` from the features extracted\n",
        "    df_features = pd.DataFrame([f])\n",
        "\n",
        "    # Drop unneeded columns\n",
        "    df_features.drop('is_english', axis=1, inplace=True)\n",
        "    df_features.drop('title_raw', axis=1, inplace=True)\n",
        "\n",
        "    # Vectorize the website content using the pre-trained count vectorizer\n",
        "    X = count_vectorizer.transform(df_features[\"text_clean\"])\n",
        "\n",
        "    df_words = pd.DataFrame(data=X.toarray(), columns = count_vectorizer.get_feature_names())\n",
        "\n",
        "    # Merge dataframes together\n",
        "    df = pd.concat([df_features, df_words], axis=1)\n",
        "\n",
        "    prediction = predict_model(class_model, data=df)\n",
        "    label = prediction.iloc[-1][\"Label\"]\n",
        "    \n",
        "    print(f\"Classification: {label.upper()}\")\n",
        "  else:\n",
        "    print(f\"[-] Target website is not written in English.\")\n",
        "else:\n",
        "  print(f\"[-] Received response '{response.status_code}' from '{url}'.\")\n",
        "\n"
      ]
    },
    {
      "cell_type": "markdown",
      "metadata": {
        "id": "uIFGOQ5E_L3s"
      },
      "source": [
        "## Future Improvements\n",
        "\n",
        "Additional features could be extracted that would be interesting to enrich the model. These include:\n",
        "\n",
        "* Include the title of the webpage to detect tokens of interest, including names of organizations\n",
        "* Include features about the URL itself, i.e. length, ccTLD, special characters.\n",
        "* Include information about specific HTML tags, i.e. presence of `<iframe>` `<img>`;\n",
        "* Extend the extraction of features to JavaScript linked via `src` attributed.\n",
        "\n",
        "In terms of improving the NLP aspect of this project, the following activities would be interesting to pursue:\n",
        "\n",
        "* Use the full dataset for training the model, i.e. 382,000 webpages;\n",
        "* Better parsing of HTML to filter out remaining HTML code.\n",
        "* Add emphasis on the detection of organizations, i.e. Bank of America, Microsoft, Facebook etc.."
      ]
    },
    {
      "cell_type": "markdown",
      "metadata": {
        "id": "24LYMWLPAsU9"
      },
      "source": [
        "## Conclusion"
      ]
    }
  ],
  "metadata": {
    "colab": {
      "provenance": [],
      "toc_visible": true
    },
    "kernelspec": {
      "display_name": "Python 3",
      "language": "python",
      "name": "python3"
    },
    "language_info": {
      "codemirror_mode": {
        "name": "ipython",
        "version": 3
      },
      "file_extension": ".py",
      "mimetype": "text/x-python",
      "name": "python",
      "nbconvert_exporter": "python",
      "pygments_lexer": "ipython3",
      "version": "3.10.6"
    },
    "vscode": {
      "interpreter": {
        "hash": "916dbcbb3f70747c44a77c7bcd40155683ae19c65e1c03b4aa3499c5328201f1"
      }
    },
    "widgets": {
      "application/vnd.jupyter.widget-state+json": {
        "0c8e1b50b0b846418a387869cbff957c": {
          "model_module": "@jupyter-widgets/base",
          "model_module_version": "1.2.0",
          "model_name": "LayoutModel",
          "state": {
            "_model_module": "@jupyter-widgets/base",
            "_model_module_version": "1.2.0",
            "_model_name": "LayoutModel",
            "_view_count": null,
            "_view_module": "@jupyter-widgets/base",
            "_view_module_version": "1.2.0",
            "_view_name": "LayoutView",
            "align_content": null,
            "align_items": null,
            "align_self": null,
            "border": null,
            "bottom": null,
            "display": null,
            "flex": null,
            "flex_flow": null,
            "grid_area": null,
            "grid_auto_columns": null,
            "grid_auto_flow": null,
            "grid_auto_rows": null,
            "grid_column": null,
            "grid_gap": null,
            "grid_row": null,
            "grid_template_areas": null,
            "grid_template_columns": null,
            "grid_template_rows": null,
            "height": null,
            "justify_content": null,
            "justify_items": null,
            "left": null,
            "margin": null,
            "max_height": null,
            "max_width": null,
            "min_height": null,
            "min_width": null,
            "object_fit": null,
            "object_position": null,
            "order": null,
            "overflow": null,
            "overflow_x": null,
            "overflow_y": null,
            "padding": null,
            "right": null,
            "top": null,
            "visibility": null,
            "width": null
          }
        },
        "104e7bdfc6794130897c9e1752060125": {
          "model_module": "@jupyter-widgets/base",
          "model_module_version": "1.2.0",
          "model_name": "LayoutModel",
          "state": {
            "_model_module": "@jupyter-widgets/base",
            "_model_module_version": "1.2.0",
            "_model_name": "LayoutModel",
            "_view_count": null,
            "_view_module": "@jupyter-widgets/base",
            "_view_module_version": "1.2.0",
            "_view_name": "LayoutView",
            "align_content": null,
            "align_items": null,
            "align_self": null,
            "border": null,
            "bottom": null,
            "display": null,
            "flex": null,
            "flex_flow": null,
            "grid_area": null,
            "grid_auto_columns": null,
            "grid_auto_flow": null,
            "grid_auto_rows": null,
            "grid_column": null,
            "grid_gap": null,
            "grid_row": null,
            "grid_template_areas": null,
            "grid_template_columns": null,
            "grid_template_rows": null,
            "height": null,
            "justify_content": null,
            "justify_items": null,
            "left": null,
            "margin": null,
            "max_height": null,
            "max_width": null,
            "min_height": null,
            "min_width": null,
            "object_fit": null,
            "object_position": null,
            "order": null,
            "overflow": null,
            "overflow_x": null,
            "overflow_y": null,
            "padding": null,
            "right": null,
            "top": null,
            "visibility": null,
            "width": "100%"
          }
        },
        "13863780972d42e59fda2f731195f778": {
          "model_module": "@jupyter-widgets/controls",
          "model_module_version": "1.5.0",
          "model_name": "ProgressStyleModel",
          "state": {
            "_model_module": "@jupyter-widgets/controls",
            "_model_module_version": "1.5.0",
            "_model_name": "ProgressStyleModel",
            "_view_count": null,
            "_view_module": "@jupyter-widgets/base",
            "_view_module_version": "1.2.0",
            "_view_name": "StyleView",
            "bar_color": null,
            "description_width": ""
          }
        },
        "1a4cde6f30764eb2b4e2b26c7300cb0f": {
          "model_module": "@jupyter-widgets/base",
          "model_module_version": "1.2.0",
          "model_name": "LayoutModel",
          "state": {
            "_model_module": "@jupyter-widgets/base",
            "_model_module_version": "1.2.0",
            "_model_name": "LayoutModel",
            "_view_count": null,
            "_view_module": "@jupyter-widgets/base",
            "_view_module_version": "1.2.0",
            "_view_name": "LayoutView",
            "align_content": null,
            "align_items": null,
            "align_self": null,
            "border": null,
            "bottom": null,
            "display": null,
            "flex": null,
            "flex_flow": null,
            "grid_area": null,
            "grid_auto_columns": null,
            "grid_auto_flow": null,
            "grid_auto_rows": null,
            "grid_column": null,
            "grid_gap": null,
            "grid_row": null,
            "grid_template_areas": null,
            "grid_template_columns": null,
            "grid_template_rows": null,
            "height": null,
            "justify_content": null,
            "justify_items": null,
            "left": null,
            "margin": null,
            "max_height": null,
            "max_width": null,
            "min_height": null,
            "min_width": null,
            "object_fit": null,
            "object_position": null,
            "order": null,
            "overflow": null,
            "overflow_x": null,
            "overflow_y": null,
            "padding": null,
            "right": null,
            "top": null,
            "visibility": null,
            "width": null
          }
        },
        "45ed0e998cf942b69e2996297cf2c38e": {
          "model_module": "@jupyter-widgets/controls",
          "model_module_version": "1.5.0",
          "model_name": "ProgressStyleModel",
          "state": {
            "_model_module": "@jupyter-widgets/controls",
            "_model_module_version": "1.5.0",
            "_model_name": "ProgressStyleModel",
            "_view_count": null,
            "_view_module": "@jupyter-widgets/base",
            "_view_module_version": "1.2.0",
            "_view_name": "StyleView",
            "bar_color": null,
            "description_width": ""
          }
        },
        "5fdca9c1472049c8aeecca21cb20983a": {
          "model_module": "@jupyter-widgets/controls",
          "model_module_version": "1.5.0",
          "model_name": "IntProgressModel",
          "state": {
            "_dom_classes": [],
            "_model_module": "@jupyter-widgets/controls",
            "_model_module_version": "1.5.0",
            "_model_name": "IntProgressModel",
            "_view_count": null,
            "_view_module": "@jupyter-widgets/controls",
            "_view_module_version": "1.5.0",
            "_view_name": "ProgressView",
            "bar_style": "",
            "description": "Processing: ",
            "description_tooltip": null,
            "layout": "IPY_MODEL_0c8e1b50b0b846418a387869cbff957c",
            "max": 3,
            "min": 0,
            "orientation": "horizontal",
            "style": "IPY_MODEL_13863780972d42e59fda2f731195f778",
            "value": 3
          }
        },
        "72471aaac18f410886d94ccf54ae736f": {
          "model_module": "@jupyter-widgets/controls",
          "model_module_version": "1.5.0",
          "model_name": "IntProgressModel",
          "state": {
            "_dom_classes": [],
            "_model_module": "@jupyter-widgets/controls",
            "_model_module_version": "1.5.0",
            "_model_name": "IntProgressModel",
            "_view_count": null,
            "_view_module": "@jupyter-widgets/controls",
            "_view_module_version": "1.5.0",
            "_view_name": "ProgressView",
            "bar_style": "",
            "description": "Processing: ",
            "description_tooltip": null,
            "layout": "IPY_MODEL_1a4cde6f30764eb2b4e2b26c7300cb0f",
            "max": 79,
            "min": 0,
            "orientation": "horizontal",
            "style": "IPY_MODEL_45ed0e998cf942b69e2996297cf2c38e",
            "value": 79
          }
        },
        "b8a4d54e23b34cb8b1115eb4f9594626": {
          "model_module": "@jupyter-widgets/controls",
          "model_module_version": "1.5.0",
          "model_name": "TextModel",
          "state": {
            "_dom_classes": [],
            "_model_module": "@jupyter-widgets/controls",
            "_model_module_version": "1.5.0",
            "_model_name": "TextModel",
            "_view_count": null,
            "_view_module": "@jupyter-widgets/controls",
            "_view_module_version": "1.5.0",
            "_view_name": "TextView",
            "continuous_update": true,
            "description": "",
            "description_tooltip": null,
            "disabled": false,
            "layout": "IPY_MODEL_104e7bdfc6794130897c9e1752060125",
            "placeholder": "​",
            "style": "IPY_MODEL_e7e664d2e63f489992b40cc38372d94b",
            "value": "Following data types have been inferred automatically, if they are correct press enter to continue or type 'quit' otherwise."
          }
        },
        "e7e664d2e63f489992b40cc38372d94b": {
          "model_module": "@jupyter-widgets/controls",
          "model_module_version": "1.5.0",
          "model_name": "DescriptionStyleModel",
          "state": {
            "_model_module": "@jupyter-widgets/controls",
            "_model_module_version": "1.5.0",
            "_model_name": "DescriptionStyleModel",
            "_view_count": null,
            "_view_module": "@jupyter-widgets/base",
            "_view_module_version": "1.2.0",
            "_view_name": "StyleView",
            "description_width": ""
          }
        }
      }
    }
  },
  "nbformat": 4,
  "nbformat_minor": 0
}
